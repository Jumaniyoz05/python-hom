{
 "cells": [
  {
   "cell_type": "code",
   "execution_count": 7,
   "id": "feb67951",
   "metadata": {},
   "outputs": [
    {
     "name": "stdout",
     "output_type": "stream",
     "text": [
      "10\n"
     ]
    }
   ],
   "source": [
    "print(10)"
   ]
  },
  {
   "cell_type": "code",
   "execution_count": 8,
   "id": "4e17609a",
   "metadata": {},
   "outputs": [
    {
     "name": "stdout",
     "output_type": "stream",
     "text": [
      "20\n"
     ]
    }
   ],
   "source": [
    "print(20)"
   ]
  },
  {
   "cell_type": "markdown",
   "id": "43b01825",
   "metadata": {},
   "source": [
    "# Numerics in Python\n",
    "### This is 3 hashtag text\n",
    "##### Numerics in Python\n"
   ]
  },
  {
   "cell_type": "markdown",
   "id": "58a08dfd",
   "metadata": {},
   "source": [
    "# Numerics in Python\n",
    "## 3 Built in Numeric Types \n",
    "### 1 int integers\n",
    "### 2 float floating numbers\n",
    "### 3 complex complex numbers(i,j)\n",
    "\n",
    "## 2 additional numeric types\n",
    "### decimal(4,2), 10.08, 2.10, 3.00\n",
    "### fractions  =  rational numbers (kasrlar)\n"
   ]
  },
  {
   "cell_type": "markdown",
   "id": "92a36a3c",
   "metadata": {},
   "source": [
    "## Integers = butun sonlar"
   ]
  },
  {
   "cell_type": "code",
   "execution_count": 9,
   "id": "172de3a5",
   "metadata": {},
   "outputs": [
    {
     "name": "stdout",
     "output_type": "stream",
     "text": [
      "7\n"
     ]
    }
   ],
   "source": [
    "myint = 7\n",
    "print(myint)"
   ]
  },
  {
   "cell_type": "code",
   "execution_count": 13,
   "id": "2b670bb7",
   "metadata": {},
   "outputs": [
    {
     "data": {
      "text/plain": [
       "14"
      ]
     },
     "execution_count": 13,
     "metadata": {},
     "output_type": "execute_result"
    }
   ],
   "source": [
    "myint = 14\n",
    "# print(myint)\n",
    "\n",
    "x = 2\n",
    "\n",
    "y = 1\n",
    "myint"
   ]
  },
  {
   "cell_type": "code",
   "execution_count": null,
   "id": "fdc564d6",
   "metadata": {},
   "outputs": [
    {
     "name": "stdout",
     "output_type": "stream",
     "text": [
      "16\n"
     ]
    }
   ],
   "source": [
    "num = \"20\"\n",
    "num2 = int(num)\n",
    "\n",
    "type(num2)\n",
    "# print(10+3+3)"
   ]
  },
  {
   "cell_type": "code",
   "execution_count": null,
   "id": "e0b9a1cb",
   "metadata": {},
   "outputs": [],
   "source": [
    "# ikkilik sanoq sistemasi, 0, 1\n",
    "# 3 lik sanoq sistemasi, 0,1,2\n",
    "# 4 lik sanoq sistemasi, 0,1,2,3\n",
    "# 10 lik sanoq sistemasi, 0, ..... 9"
   ]
  },
  {
   "cell_type": "code",
   "execution_count": null,
   "id": "a3dc5b45",
   "metadata": {},
   "outputs": [
    {
     "data": {
      "text/plain": [
       "6"
      ]
     },
     "execution_count": 22,
     "metadata": {},
     "output_type": "execute_result"
    }
   ],
   "source": [
    "num = \"20\"\n",
    "\n",
    "num2 = int(num,3)\n",
    "num2"
   ]
  },
  {
   "cell_type": "code",
   "execution_count": 23,
   "id": "92b4d529",
   "metadata": {},
   "outputs": [
    {
     "data": {
      "text/plain": [
       "int"
      ]
     },
     "execution_count": 23,
     "metadata": {},
     "output_type": "execute_result"
    }
   ],
   "source": [
    "longint = 8_000_000_000\n",
    "\n",
    "type(longint)"
   ]
  },
  {
   "cell_type": "code",
   "execution_count": 26,
   "id": "597cffb0",
   "metadata": {},
   "outputs": [
    {
     "name": "stdout",
     "output_type": "stream",
     "text": [
      "2.4\n"
     ]
    }
   ],
   "source": [
    "myfloat = 2.40000\n",
    "type(myfloat)\n",
    "print(myfloat)"
   ]
  },
  {
   "cell_type": "code",
   "execution_count": null,
   "id": "54a9782c",
   "metadata": {},
   "outputs": [
    {
     "name": "stdout",
     "output_type": "stream",
     "text": [
      "<class 'float'>\n"
     ]
    }
   ],
   "source": [
    "strnum = \"10.8\"\n",
    "\n",
    "type(strnum)\n",
    "\n",
    "floatnum = float(strnum)\n",
    "\n",
    "print(type(floatnum))"
   ]
  },
  {
   "cell_type": "code",
   "execution_count": null,
   "id": "e39038cb",
   "metadata": {},
   "outputs": [
    {
     "data": {
      "text/plain": [
       "complex"
      ]
     },
     "execution_count": 29,
     "metadata": {},
     "output_type": "execute_result"
    }
   ],
   "source": [
    "comp = 9 + 10j\n",
    "\n",
    "type(comp)\n",
    "comp.real\n",
    "comp.imag"
   ]
  },
  {
   "cell_type": "markdown",
   "id": "76164d7c",
   "metadata": {},
   "source": [
    "### Numeric Operations"
   ]
  },
  {
   "cell_type": "code",
   "execution_count": 3,
   "id": "09f39f34",
   "metadata": {},
   "outputs": [
    {
     "data": {
      "text/plain": [
       "25"
      ]
     },
     "execution_count": 3,
     "metadata": {},
     "output_type": "execute_result"
    }
   ],
   "source": [
    "# + operator\n",
    "\n",
    "a = 10\n",
    "b = 8\n",
    "\n",
    "c = a + b + 7\n",
    "\n",
    "c"
   ]
  },
  {
   "cell_type": "code",
   "execution_count": 4,
   "id": "78d742d7",
   "metadata": {},
   "outputs": [
    {
     "data": {
      "text/plain": [
       "1"
      ]
     },
     "execution_count": 4,
     "metadata": {},
     "output_type": "execute_result"
    }
   ],
   "source": [
    "# - operator\n",
    "\n",
    "a = 10\n",
    "b = 8\n",
    "\n",
    "c = a - b - 1\n",
    "\n",
    "c"
   ]
  },
  {
   "cell_type": "code",
   "execution_count": 5,
   "id": "eeadaacb",
   "metadata": {},
   "outputs": [
    {
     "name": "stdout",
     "output_type": "stream",
     "text": [
      "8\n"
     ]
    }
   ],
   "source": [
    "print(b)"
   ]
  },
  {
   "cell_type": "code",
   "execution_count": 6,
   "id": "2e00d839",
   "metadata": {},
   "outputs": [
    {
     "name": "stdout",
     "output_type": "stream",
     "text": [
      "30\n",
      "3.3333333333333335\n"
     ]
    }
   ],
   "source": [
    "# *, /\n",
    "\n",
    "a = 10\n",
    "b = 3\n",
    "\n",
    "print(a * b)\n",
    "print(a / b)\n"
   ]
  },
  {
   "cell_type": "code",
   "execution_count": 7,
   "id": "6a02c32e",
   "metadata": {},
   "outputs": [
    {
     "name": "stdout",
     "output_type": "stream",
     "text": [
      "5\n"
     ]
    }
   ],
   "source": [
    "# // operator = whole(int) part of division \n",
    "\n",
    "b = 2\n",
    "c = a // b\n",
    "\n",
    "print(c)\n"
   ]
  },
  {
   "cell_type": "code",
   "execution_count": 31,
   "id": "99b47cbe",
   "metadata": {},
   "outputs": [
    {
     "data": {
      "text/plain": [
       "1"
      ]
     },
     "execution_count": 31,
     "metadata": {},
     "output_type": "execute_result"
    }
   ],
   "source": [
    "# % operator = remainder(mod) part of division\n",
    "\n",
    "\n",
    "a = 16\n",
    "b = 3\n",
    "\n",
    "c = a % b\n",
    "\n",
    "c\n"
   ]
  },
  {
   "cell_type": "code",
   "execution_count": null,
   "id": "60a3ba75",
   "metadata": {},
   "outputs": [],
   "source": []
  },
  {
   "cell_type": "code",
   "execution_count": null,
   "id": "83dbc449",
   "metadata": {},
   "outputs": [],
   "source": []
  },
  {
   "cell_type": "code",
   "execution_count": null,
   "id": "91f46145",
   "metadata": {},
   "outputs": [],
   "source": []
  },
  {
   "cell_type": "code",
   "execution_count": 9,
   "id": "010e115e",
   "metadata": {},
   "outputs": [
    {
     "data": {
      "text/plain": [
       "(0, 1)"
      ]
     },
     "execution_count": 9,
     "metadata": {},
     "output_type": "execute_result"
    }
   ],
   "source": [
    "divmod(19,3) #(olti,1)\n",
    "divmod(1,3) # (0, 1)"
   ]
  },
  {
   "cell_type": "code",
   "execution_count": 10,
   "id": "01753e34",
   "metadata": {},
   "outputs": [
    {
     "data": {
      "text/plain": [
       "10"
      ]
     },
     "execution_count": 10,
     "metadata": {},
     "output_type": "execute_result"
    }
   ],
   "source": [
    "# abs = absolute = modul\n",
    "\n",
    "a = -10\n",
    "\n",
    "abs(a)\n",
    "# a"
   ]
  },
  {
   "cell_type": "code",
   "execution_count": 11,
   "id": "021ba4aa",
   "metadata": {},
   "outputs": [
    {
     "data": {
      "text/plain": [
       "512"
      ]
     },
     "execution_count": 11,
     "metadata": {},
     "output_type": "execute_result"
    }
   ],
   "source": [
    "# ** = power\n",
    "\n",
    "a = 8 ** 3\n",
    "\n",
    "a"
   ]
  },
  {
   "cell_type": "code",
   "execution_count": 12,
   "id": "123a7f7c",
   "metadata": {},
   "outputs": [],
   "source": [
    "# assignment operator is equal sign (=) and variable naming\n",
    "\n",
    "\n",
    "\n",
    "# alphanumeric characters and undescrores (A-z 0-9, _)\n",
    "# variable names cannot start with numbers\n",
    "# python is case sensitive (num, Num, NUM are three different objects)\n",
    "# do not create variable names with python keywords\n",
    "\n",
    "\n",
    "# Son10_hello = 10\n",
    "\n",
    "# Son10_hello\n",
    "\n",
    "\n",
    "# my@num = 10\n",
    "\n",
    "# my@num\n",
    "\n",
    "_10myson = 10\n",
    "\n",
    "num = 10\n",
    "\n",
    "# print(num)\n",
    "\n",
    "num = 10\n",
    "\n",
    "Num = 20\n",
    "\n",
    "# print(num)\n",
    "\n",
    "# print(id(num))\n",
    "# print(id(Num))\n",
    "\n",
    "\n",
    "\n",
    "# print = 10\n",
    "\n",
    "# print"
   ]
  },
  {
   "cell_type": "code",
   "execution_count": 13,
   "id": "d7bf356f",
   "metadata": {},
   "outputs": [
    {
     "name": "stdout",
     "output_type": "stream",
     "text": [
      "Hello world\n"
     ]
    }
   ],
   "source": [
    "print(\"Hello world\")"
   ]
  },
  {
   "cell_type": "code",
   "execution_count": 14,
   "id": "a0d102a2",
   "metadata": {},
   "outputs": [],
   "source": [
    "print\n",
    "\n",
    "del a"
   ]
  },
  {
   "cell_type": "code",
   "execution_count": 15,
   "id": "ebd7ee6d",
   "metadata": {},
   "outputs": [
    {
     "ename": "NameError",
     "evalue": "name 'a' is not defined",
     "output_type": "error",
     "traceback": [
      "\u001b[31m---------------------------------------------------------------------------\u001b[39m",
      "\u001b[31mNameError\u001b[39m                                 Traceback (most recent call last)",
      "\u001b[36mCell\u001b[39m\u001b[36m \u001b[39m\u001b[32mIn[15]\u001b[39m\u001b[32m, line 1\u001b[39m\n\u001b[32m----> \u001b[39m\u001b[32m1\u001b[39m \u001b[43ma\u001b[49m\n",
      "\u001b[31mNameError\u001b[39m: name 'a' is not defined"
     ]
    }
   ],
   "source": [
    "a"
   ]
  },
  {
   "cell_type": "code",
   "execution_count": 16,
   "id": "e87128c1",
   "metadata": {},
   "outputs": [
    {
     "ename": "NameError",
     "evalue": "name 'print' is not defined",
     "output_type": "error",
     "traceback": [
      "\u001b[31m---------------------------------------------------------------------------\u001b[39m",
      "\u001b[31mNameError\u001b[39m                                 Traceback (most recent call last)",
      "\u001b[36mCell\u001b[39m\u001b[36m \u001b[39m\u001b[32mIn[16]\u001b[39m\u001b[32m, line 1\u001b[39m\n\u001b[32m----> \u001b[39m\u001b[32m1\u001b[39m \u001b[38;5;28;01mdel\u001b[39;00m \u001b[38;5;28;43mprint\u001b[39;49m\n",
      "\u001b[31mNameError\u001b[39m: name 'print' is not defined"
     ]
    }
   ],
   "source": [
    "del print"
   ]
  },
  {
   "cell_type": "code",
   "execution_count": 17,
   "id": "3638c315",
   "metadata": {},
   "outputs": [
    {
     "name": "stdout",
     "output_type": "stream",
     "text": [
      "10\n"
     ]
    }
   ],
   "source": [
    "print(10)"
   ]
  },
  {
   "cell_type": "code",
   "execution_count": 18,
   "id": "4ffc6b1f",
   "metadata": {},
   "outputs": [
    {
     "ename": "NameError",
     "evalue": "name 'a' is not defined",
     "output_type": "error",
     "traceback": [
      "\u001b[31m---------------------------------------------------------------------------\u001b[39m",
      "\u001b[31mNameError\u001b[39m                                 Traceback (most recent call last)",
      "\u001b[36mCell\u001b[39m\u001b[36m \u001b[39m\u001b[32mIn[18]\u001b[39m\u001b[32m, line 1\u001b[39m\n\u001b[32m----> \u001b[39m\u001b[32m1\u001b[39m \u001b[38;5;28mprint\u001b[39m(\u001b[43ma\u001b[49m)\n",
      "\u001b[31mNameError\u001b[39m: name 'a' is not defined"
     ]
    }
   ],
   "source": [
    "print(a)"
   ]
  }
 ],
 "metadata": {
  "kernelspec": {
   "display_name": "Python 3",
   "language": "python",
   "name": "python3"
  },
  "language_info": {
   "codemirror_mode": {
    "name": "ipython",
    "version": 3
   },
   "file_extension": ".py",
   "mimetype": "text/x-python",
   "name": "python",
   "nbconvert_exporter": "python",
   "pygments_lexer": "ipython3",
   "version": "3.13.5"
  }
 },
 "nbformat": 4,
 "nbformat_minor": 5
}
