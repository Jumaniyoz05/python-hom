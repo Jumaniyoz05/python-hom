{
 "cells": [
  {
   "cell_type": "code",
   "execution_count": null,
   "id": "1bdca24c",
   "metadata": {},
   "outputs": [
    {
     "name": "stdout",
     "output_type": "stream",
     "text": [
      "false\n"
     ]
    }
   ],
   "source": [
    "#A year is a leap year if:\n",
    "#- It is divisible by 4, and\n",
    "#- It is NOT divisible by 100, unless it is also divisible by 400.\n",
    "\n",
    "#Parameters:\n",
    "#year (int): The year to be checked.\n",
    "\n",
    "#Returns:\n",
    "#bool: True if the year is a leap year, False otherwise.\n",
    "##if not isinstance(year, int):\n",
    " ##   raise ValueError(\"Year must be an integer.\")\n",
    "\n",
    "#return (year % 4 == 0 and year % 100 != 0) or (year % 400 == 0)\n",
    "\n",
    "# elif = else if\n",
    "#age = 10\n",
    "#elif age > 18:\n",
    "    #print(\"Siz saylovlarda ovoz bera olasiz\")\n",
    "#else:\n",
    " #   print(\"Siz saylovlarda ovoz bera olmaysiz\")\n",
    "\n",
    "year=1900\n",
    "if year % 4 == 0 and year % 100 != 0:\n",
    "    print('true')\n",
    "else:\n",
    "    print('false')\n",
    "\n",
    "\n"
   ]
  },
  {
   "cell_type": "code",
   "execution_count": 4,
   "id": "d976bc30",
   "metadata": {},
   "outputs": [
    {
     "name": "stdout",
     "output_type": "stream",
     "text": [
      "not weird\n"
     ]
    }
   ],
   "source": [
    "n=  46\n",
    "if n%2==1:\n",
    "    print('Weird')\n",
    "elif n%2==0 and 2<n<5:\n",
    "    print('nor weird')\n",
    "elif n%2==0 and 6<n<20:\n",
    "    print(' weird')\n",
    "elif n%2==0 and n>20:\n",
    "    print('not weird')\n",
    "\n"
   ]
  }
 ],
 "metadata": {
  "kernelspec": {
   "display_name": "Python 3",
   "language": "python",
   "name": "python3"
  },
  "language_info": {
   "codemirror_mode": {
    "name": "ipython",
    "version": 3
   },
   "file_extension": ".py",
   "mimetype": "text/x-python",
   "name": "python",
   "nbconvert_exporter": "python",
   "pygments_lexer": "ipython3",
   "version": "3.13.5"
  }
 },
 "nbformat": 4,
 "nbformat_minor": 5
}
