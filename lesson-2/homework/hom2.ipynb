{
 "cells": [
  {
   "cell_type": "code",
   "execution_count": null,
   "id": "d6093ba0",
   "metadata": {},
   "outputs": [],
   "source": [
    "print ()"
   ]
  },
  {
   "cell_type": "code",
   "execution_count": 14,
   "id": "414c2f0e",
   "metadata": {},
   "outputs": [
    {
     "data": {
      "text/plain": [
       "'ss'"
      ]
     },
     "execution_count": 14,
     "metadata": {},
     "output_type": "execute_result"
    }
   ],
   "source": [
    "name=input('sizni ismiz nima')\n",
    "name"
   ]
  },
  {
   "cell_type": "code",
   "execution_count": 3,
   "id": "18c971bf",
   "metadata": {},
   "outputs": [
    {
     "name": "stdout",
     "output_type": "stream",
     "text": [
      "Lasetti\n",
      "Malibu\n"
     ]
    }
   ],
   "source": [
    "#Quyidagi matndan avtomobil nomlarini ajrating:\n",
    "txt = 'LMaasleitbtui'\n",
    "print(txt[::2])\n",
    "print(txt[1::2])\n",
    "\n",
    "\n"
   ]
  },
  {
   "cell_type": "code",
   "execution_count": 21,
   "id": "9e24578c",
   "metadata": {},
   "outputs": [
    {
     "name": "stdout",
     "output_type": "stream",
     "text": [
      "Matiz\n",
      "Damas\n"
     ]
    }
   ],
   "source": [
    "txt = 'MsaatmiazD'\n",
    "print(txt[::2])\n",
    "print(txt[::-2])"
   ]
  },
  {
   "cell_type": "code",
   "execution_count": 22,
   "id": "78eddbc4",
   "metadata": {},
   "outputs": [
    {
     "data": {
      "text/plain": [
       "'London'"
      ]
     },
     "execution_count": 22,
     "metadata": {},
     "output_type": "execute_result"
    }
   ],
   "source": [
    "#Quyidagi matndan yashash hududini ajratib oling:\n",
    "txt = \"I'am John. I am from London\"\n",
    "txt[-6:]\n"
   ]
  },
  {
   "cell_type": "code",
   "execution_count": 23,
   "id": "98d18da1",
   "metadata": {},
   "outputs": [
    {
     "data": {
      "text/plain": [
       "'molas agammah'"
      ]
     },
     "execution_count": 23,
     "metadata": {},
     "output_type": "execute_result"
    }
   ],
   "source": [
    "name ='hammaga salom'\n",
    "name[::-1]"
   ]
  },
  {
   "cell_type": "code",
   "execution_count": 29,
   "id": "6130dafe",
   "metadata": {},
   "outputs": [
    {
     "name": "stdout",
     "output_type": "stream",
     "text": [
      "0\n",
      "1\n",
      "1\n"
     ]
    }
   ],
   "source": [
    "text='uzbekiston'\n",
    "print(text.count('a'))\n",
    "print(text.count('u'))\n",
    "print(text.count('o'))\n",
    "\n",
    "\n"
   ]
  },
  {
   "cell_type": "code",
   "execution_count": 9,
   "id": "9f44d533",
   "metadata": {},
   "outputs": [
    {
     "ename": "SyntaxError",
     "evalue": "invalid syntax (1146164205.py, line 3)",
     "output_type": "error",
     "traceback": [
      "  \u001b[36mCell\u001b[39m\u001b[36m \u001b[39m\u001b[32mIn[9]\u001b[39m\u001b[32m, line 3\u001b[39m\n\u001b[31m    \u001b[39m\u001b[31mnum def find_max():\u001b[39m\n        ^\n\u001b[31mSyntaxError\u001b[39m\u001b[31m:\u001b[39m invalid syntax\n"
     ]
    }
   ],
   "source": [
    "#Sonlar ro'yxatini qabul qiladigan va eng katta qiymatini chiqaradigan Python dasturini yozing.\n",
    "num=(10,2,22,34,5,)\n",
    "num def find_max():\n",
    "num\n"
   ]
  },
  {
   "cell_type": "code",
   "execution_count": 13,
   "id": "83d31b26",
   "metadata": {},
   "outputs": [
    {
     "name": "stdout",
     "output_type": "stream",
     "text": [
      "molas\n",
      "aziza\n"
     ]
    }
   ],
   "source": [
    "str='salom'\n",
    "print(str[::-1])\n",
    "str1='aziza'\n",
    "print(str1[::-1])"
   ]
  },
  {
   "cell_type": "code",
   "execution_count": 20,
   "id": "c0035fc1",
   "metadata": {},
   "outputs": [
    {
     "name": "stdout",
     "output_type": "stream",
     "text": [
      "jumaniyozusanov2005\n",
      "\n",
      "@gamil\n",
      "\n",
      ".com\n"
     ]
    }
   ],
   "source": [
    "logen=\"jumaniyozusanov2005\\n\\n@gamil\\n\\n.com\"\n",
    "print(logen)"
   ]
  },
  {
   "cell_type": "code",
   "execution_count": 36,
   "id": "0c0c2291",
   "metadata": {},
   "outputs": [
    {
     "name": "stdout",
     "output_type": "stream",
     "text": [
      "Generated Password: q!A4aZ5F=5qa\n"
     ]
    }
   ],
   "source": [
    "import random\n",
    "import string\n",
    "\n",
    "def generate_password(length=12):\n",
    "    if length < 4:\n",
    "        print(\"Password length should be at least 4 characters.\")\n",
    "        return\n",
    "\n",
    "    # Character sets\n",
    "    letters = string.ascii_letters  # a-zA-Z\n",
    "    digits = string.digits          # 0-9\n",
    "    special_chars = string.punctuation  # !@#$%^&*() etc.\n",
    "\n",
    "    # Ensure the password has at least one letter, digit, and special character\n",
    "    password = [\n",
    "        random.choice(letters),\n",
    "        random.choice(digits),\n",
    "        random.choice(special_chars)\n",
    "    ]\n",
    "\n",
    "    # Fill the rest with a mix of all character types\n",
    "    all_chars = letters + digits + special_chars\n",
    "    password += random.choices(all_chars, k=length - 3)\n",
    "\n",
    "    # Shuffle the password to ensure randomness\n",
    "    random.shuffle(password)\n",
    "\n",
    "    # Convert list to string\n",
    "    return ''.join(password)\n",
    "\n",
    "# Example usage\n",
    "print(\"Generated Password:\", generate_password(12))\n"
   ]
  }
 ],
 "metadata": {
  "kernelspec": {
   "display_name": "Python 3",
   "language": "python",
   "name": "python3"
  },
  "language_info": {
   "codemirror_mode": {
    "name": "ipython",
    "version": 3
   },
   "file_extension": ".py",
   "mimetype": "text/x-python",
   "name": "python",
   "nbconvert_exporter": "python",
   "pygments_lexer": "ipython3",
   "version": "3.13.5"
  }
 },
 "nbformat": 4,
 "nbformat_minor": 5
}
