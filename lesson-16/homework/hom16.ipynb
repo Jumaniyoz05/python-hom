{
 "cells": [
  {
   "cell_type": "code",
   "execution_count": null,
   "id": "dea4f467",
   "metadata": {},
   "outputs": [
    {
     "data": {
      "text/plain": [
       "array([ 12.23,  13.32, 100.  ,  36.32])"
      ]
     },
     "execution_count": 10,
     "metadata": {},
     "output_type": "execute_result"
    }
   ],
   "source": [
    "#Soniyning ro'yxatini bir o'lchovli NumPy massiviga aylantirish uchun NumPy dasturini yozing.\n",
    "import numpy as nb\n",
    "my_list= [12.23, 13.32, 100, 36.32]\n",
    "my_arr=nb.array(my_list)\n",
    "\n",
    "my_arr"
   ]
  },
  {
   "cell_type": "code",
   "execution_count": 3,
   "id": "2bc84a92",
   "metadata": {},
   "outputs": [
    {
     "name": "stdout",
     "output_type": "stream",
     "text": [
      "[[ 2  3  4]\n",
      " [ 5  6  7]\n",
      " [ 8  9 10]]\n"
     ]
    }
   ],
   "source": [
    "import numpy as np\n",
    "\n",
    "# Create an array with values from 2 to 10\n",
    "arr = np.arange(2, 11)\n",
    "\n",
    "# Reshape it into a 3x3 matrix\n",
    "matrix = arr.reshape(3, 3)\n",
    "\n",
    "print(matrix)\n"
   ]
  },
  {
   "cell_type": "code",
   "execution_count": 61,
   "id": "d1224ac8",
   "metadata": {},
   "outputs": [
    {
     "name": "stdout",
     "output_type": "stream",
     "text": [
      "Boshlang'ich: [0. 0. 0. 0. 0. 0. 0. 0. 0. 0.]\n",
      "Yangilangan: [ 0.  0.  0.  0.  0. 11.  0.  0.  0.  0.]\n"
     ]
    }
   ],
   "source": [
    "import numpy as np\n",
    "\n",
    "# Null vector yaratamiz (0 lar bilan)\n",
    "nol = np.zeros(10)\n",
    "\n",
    "print(\"Boshlang'ich:\", nol)\n",
    "\n",
    "# 6-chi qiymatni yangilash (index = 5)\n",
    "nol[5] = 11\n",
    "\n",
    "print(\"Yangilangan:\", nol)\n"
   ]
  },
  {
   "cell_type": "code",
   "execution_count": 62,
   "id": "ce0bdd8a",
   "metadata": {},
   "outputs": [
    {
     "data": {
      "text/plain": [
       "array([12, 13, 14, 15, 16, 17, 18, 19, 20, 21, 22, 23, 24, 25, 26, 27, 28,\n",
       "       29, 30, 31, 32, 33, 34, 35, 36, 37])"
      ]
     },
     "execution_count": 62,
     "metadata": {},
     "output_type": "execute_result"
    }
   ],
   "source": [
    "#Write a NumPy program to create an array with values ranging from 12 to 38.\n",
    "\n",
    "num=nb.arange(12,38)\n",
    "num"
   ]
  },
  {
   "cell_type": "code",
   "execution_count": 63,
   "id": "77be51cb",
   "metadata": {},
   "outputs": [
    {
     "name": "stdout",
     "output_type": "stream",
     "text": [
      "Original array: [1 2 3 4]\n",
      "Original data type: int64\n",
      "Float array: [1. 2. 3. 4.]\n",
      "Float data type: float64\n"
     ]
    }
   ],
   "source": [
    "import numpy as np\n",
    "\n",
    "# Original array (butun sonlar)\n",
    "arr = np.array([1, 2, 3, 4])\n",
    "print(\"Original array:\", arr)\n",
    "print(\"Original data type:\", arr.dtype)\n",
    "\n",
    "# Arrayni float ga aylantirish\n",
    "float_arr = arr.astype(float)\n",
    "print(\"Float array:\", float_arr)\n",
    "print(\"Float data type:\", float_arr.dtype)\n"
   ]
  },
  {
   "cell_type": "code",
   "execution_count": 5,
   "id": "5915cc92",
   "metadata": {},
   "outputs": [
    {
     "name": "stdout",
     "output_type": "stream",
     "text": [
      "Selsiy darajalari: [-17.78 -11.11   7.34   1.11  37.73   0.  ]\n",
      "Farangeyt darajalari: [-4.0000e-03  1.2002e+01  4.5212e+01  3.3998e+01  9.9914e+01  3.2000e+01]\n"
     ]
    }
   ],
   "source": [
    "import numpy as np  # NumPy kutubxonasini chaqiramiz\n",
    "\n",
    "# Selsiydagi haroratlar ro'yxati\n",
    "centigrade = np.array([-17.78, -11.11, 7.34, 1.11, 37.73, 0.])\n",
    "\n",
    "# Selsiydan Farangeytga o'tkazamiz\n",
    "fahrenheit = (9/5) * centigrade + 32\n",
    "\n",
    "# Natijalarni chiqaramiz\n",
    "print(\"Selsiy darajalari:\", centigrade)\n",
    "print(\"Farangeyt darajalari:\", fahrenheit)\n"
   ]
  },
  {
   "cell_type": "code",
   "execution_count": 21,
   "id": "1612b8ed",
   "metadata": {},
   "outputs": [
    {
     "data": {
      "text/plain": [
       "array([ 10,  20,  30,  40,  50,  60,  70,  80,  90, 100])"
      ]
     },
     "execution_count": 21,
     "metadata": {},
     "output_type": "execute_result"
    }
   ],
   "source": [
    "import numpy as nb\n",
    "lis=nb.array([10,20,30])\n",
    "lis\n",
    "lis1=[40,50,60,70,80,90,100]\n",
    "lis1\n",
    "\n",
    "full=nb.append(lis,lis1)\n",
    "full\n",
    " \n",
    " \n"
   ]
  },
  {
   "cell_type": "code",
   "execution_count": 76,
   "id": "c39ebaaa",
   "metadata": {},
   "outputs": [
    {
     "data": {
      "text/plain": [
       "array([9, 7, 8, 3, 6, 2, 1, 4, 5, 0])"
      ]
     },
     "execution_count": 76,
     "metadata": {},
     "output_type": "execute_result"
    }
   ],
   "source": [
    "# 10 elementdan iborat tasodifiy NumPy massivini yarating va massivning o'rtacha,\n",
    "#  median va standart og'ishini hisoblashingiz kerak.\n",
    "son=nb.random.rand(10)\n",
    "son.mean()\n",
    "son.cumsum()\n",
    "raqam=son.argsort()\n",
    "raqam"
   ]
  },
  {
   "cell_type": "code",
   "execution_count": 83,
   "id": "b24ff0e3",
   "metadata": {},
   "outputs": [
    {
     "data": {
      "text/plain": [
       "np.float64(0.0026850578485999588)"
      ]
     },
     "execution_count": 83,
     "metadata": {},
     "output_type": "execute_result"
    }
   ],
   "source": [
    "ran=nb.random.rand(10,10)\n",
    "ran.max()\n",
    "ran.min()"
   ]
  },
  {
   "cell_type": "code",
   "execution_count": 84,
   "id": "3702d8c4",
   "metadata": {},
   "outputs": [
    {
     "data": {
      "text/plain": [
       "array([[[0.13233835, 0.99778417, 0.85171202],\n",
       "        [0.66289976, 0.4236332 , 0.36912864],\n",
       "        [0.34730522, 0.54956826, 0.20169172]],\n",
       "\n",
       "       [[0.33909393, 0.03330752, 0.26896013],\n",
       "        [0.57721328, 0.74675217, 0.75352227],\n",
       "        [0.82335006, 0.07119529, 0.25894087]],\n",
       "\n",
       "       [[0.9457687 , 0.66486827, 0.68723576],\n",
       "        [0.85308386, 0.89307898, 0.87203593],\n",
       "        [0.72694008, 0.21297409, 0.3039177 ]]])"
      ]
     },
     "execution_count": 84,
     "metadata": {},
     "output_type": "execute_result"
    }
   ],
   "source": [
    "ran2=nb.random.rand(3,3,3)\n",
    "ran2"
   ]
  }
 ],
 "metadata": {
  "kernelspec": {
   "display_name": "Python 3",
   "language": "python",
   "name": "python3"
  },
  "language_info": {
   "codemirror_mode": {
    "name": "ipython",
    "version": 3
   },
   "file_extension": ".py",
   "mimetype": "text/x-python",
   "name": "python",
   "nbconvert_exporter": "python",
   "pygments_lexer": "ipython3",
   "version": "3.13.5"
  }
 },
 "nbformat": 4,
 "nbformat_minor": 5
}
