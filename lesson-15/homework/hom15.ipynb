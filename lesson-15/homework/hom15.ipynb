{
 "cells": [
  {
   "cell_type": "code",
   "execution_count": null,
   "id": "c759c6b2",
   "metadata": {},
   "outputs": [
    {
     "name": "stdout",
     "output_type": "stream",
     "text": [
      "Bazaga ulanish va jadval yaratildi!\n"
     ]
    }
   ],
   "source": [
    "# Yangi ma'lumotlar bazasini yarating va Roster deb nomlangan jadvalga uchta maydon qo'shing: Ism, Turi va Yosh. \n",
    "# Ism va Turi ustunlari matn maydonlari bo'lishi kerak, Yosh ustuni esa butun son maydoni bo'lishi kerak.\n",
    "\n",
    "\n",
    "import sqlite3\n",
    "\n",
    "# 1. Bazaga ulanish (yangi fayl bo'lsa, yaratadi)\n",
    "conn = sqlite3.connect('mydatabase.db')  # 'mydatabase.db' — bu bazaning nomi, fayl ko'rinishida\n",
    "\n",
    "# 2. Cursor yaratish (SQL buyruqlarini bajarish uchun)\n",
    "cursor = conn.cursor()\n",
    "\n",
    "# 3. Roster jadvalini yaratish\n",
    "cursor.execute('''\n",
    "CREATE TABLE IF NOT EXISTS Roster (\n",
    "    Name TEXT,\n",
    "    Species TEXT,\n",
    "    Age INTEGER\n",
    ")\n",
    "''')\n",
    "\n",
    "# 4. O'zgarishlarni saqlash\n",
    "conn.commit()\n",
    "\n",
    "# 5. Ulanishni yopish\n",
    "conn.close()\n",
    "\n",
    "print(\"Bazaga ulanish va jadval yaratildi!\")\n"
   ]
  },
  {
   "cell_type": "code",
   "execution_count": 10,
   "id": "284dfd1a",
   "metadata": {},
   "outputs": [
    {
     "name": "stdout",
     "output_type": "stream",
     "text": [
      "<sqlite3.Connection object at 0x000001D44088EB60>\n"
     ]
    }
   ],
   "source": [
    "conn\n",
    "conn = sqlite3.connect('mydatabase.db')  # 'mydatabase.db' — bu bazaning nomi, fayl ko'rinishida\n",
    "\n",
    "conn.execute(''' insert into roster (name, species,age) \n",
    "               values ('Benjamin Sisko',\t'Human',\t40),\n",
    "               ('Jadzia Dax'\t,'Trill',\t300),('Kira Nerys',\t'Bajoran',29)''')\n",
    "conn.close()\n",
    "print(conn)"
   ]
  },
  {
   "cell_type": "code",
   "execution_count": 11,
   "id": "f2a7386a",
   "metadata": {},
   "outputs": [
    {
     "name": "stdout",
     "output_type": "stream",
     "text": [
      "Yangilandi: Jadzia Dax -> Ezri Dax\n"
     ]
    }
   ],
   "source": [
    "import sqlite3\n",
    "\n",
    "# Bazaga ulanish\n",
    "conn = sqlite3.connect('mydatabase.db')\n",
    "\n",
    "# Ma'lumotni yangilash: Jadzia Dax -> Ezri Dax\n",
    "conn.execute('''\n",
    "    UPDATE Roster\n",
    "    SET Name = 'Ezri Dax'\n",
    "    WHERE Name = 'Jadzia Dax'\n",
    "''')\n",
    "\n",
    "# O'zgarishlarni saqlash\n",
    "conn.commit()\n",
    "\n",
    "# Ulanishni yopish\n",
    "conn.close()\n",
    "\n",
    "print(\"Yangilandi: Jadzia Dax -> Ezri Dax\")\n"
   ]
  },
  {
   "cell_type": "code",
   "execution_count": 13,
   "id": "a6c6cb5e",
   "metadata": {},
   "outputs": [],
   "source": [
    "import sqlite3\n",
    "conn=sqlite3.connect('mydatabase.db')\n",
    "conn.execute('''  \n",
    "select name,age from roster\n",
    "where  Species='Bajoran'\n",
    "\n",
    "''')\n",
    "conn.close()\n"
   ]
  }
 ],
 "metadata": {
  "kernelspec": {
   "display_name": "Python 3",
   "language": "python",
   "name": "python3"
  },
  "language_info": {
   "codemirror_mode": {
    "name": "ipython",
    "version": 3
   },
   "file_extension": ".py",
   "mimetype": "text/x-python",
   "name": "python",
   "nbconvert_exporter": "python",
   "pygments_lexer": "ipython3",
   "version": "3.13.5"
  }
 },
 "nbformat": 4,
 "nbformat_minor": 5
}
