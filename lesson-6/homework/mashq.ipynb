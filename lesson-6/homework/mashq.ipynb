{
 "cells": [
  {
   "cell_type": "code",
   "execution_count": 37,
   "id": "01a931e2",
   "metadata": {},
   "outputs": [
    {
     "name": "stdout",
     "output_type": "stream",
     "text": [
      "ddd_d\n"
     ]
    }
   ],
   "source": [
    "#Berilgan txt satriga, har uchinchi belgidan keyin bir pastki chiziq (_) qo'shing. \n",
    "# Agar belgi unli bo'lsa yoki allaqachon pastki chiziq bo'lsa,\n",
    "#  pastki chiziq joyini keyingi belgiga o'tkazing. Oxirida pastki chiziq qo'shilmasin.\n",
    "\n",
    "#satr= salomm \n",
    "def insert_underscore(txt):\n",
    "    vowels = \"aeiouAEIOU\"\n",
    "    i = 0\n",
    "    count = 0\n",
    "    result = []\n",
    "\n",
    "    while i < len(txt):\n",
    "        result.append(txt[i])\n",
    "        count += 1\n",
    "\n",
    "        if count == 3:\n",
    "            insert_pos = i\n",
    "            # Belgilangan shartlarga ko'ra '_' qo'yiladigan pozitsiyani topamiz\n",
    "            while True:\n",
    "                # Agar belgilar tugab qolsa, '_' qo'shilmaydi\n",
    "                if insert_pos + 1 >= len(txt):\n",
    "                    break\n",
    "                next_char = txt[insert_pos + 1]\n",
    "                if txt[insert_pos] in vowels or next_char == '_':\n",
    "                    insert_pos += 1\n",
    "                    result.append(txt[insert_pos])\n",
    "                    i += 1\n",
    "                else:\n",
    "                    result.append('_')\n",
    "                    break\n",
    "            count = 0\n",
    "        i += 1\n",
    "\n",
    "    return ''.join(result)\n",
    "print(insert_underscore(\"dddd\"))"
   ]
  },
  {
   "cell_type": "code",
   "execution_count": 35,
   "id": "0f48f4a4",
   "metadata": {},
   "outputs": [
    {
     "name": "stdout",
     "output_type": "stream",
     "text": [
      "1\n",
      "3\n",
      "5\n",
      "7\n",
      "9\n",
      "11\n",
      "13\n",
      "15\n",
      "17\n",
      "19\n"
     ]
    }
   ],
   "source": [
    "i = 0\n",
    "while i < 19:\n",
    "    i += 1\n",
    "    if i % 2 == 0:\n",
    "        continue  # juft sonlar chiqarilmaydi\n",
    "    print(i)  # faqat toq sonlar chiqariladi\n"
   ]
  },
  {
   "cell_type": "code",
   "execution_count": 83,
   "id": "b458d70b",
   "metadata": {},
   "outputs": [
    {
     "name": "stdout",
     "output_type": "stream",
     "text": [
      "0\n",
      "1\n",
      "4\n",
      "9\n",
      "16\n"
     ]
    }
   ],
   "source": [
    "n = 4\n",
    "\n",
    "nn=[x**2 for x in range(0,n+1)]\n",
    "for i in nn:\n",
    "    print(i)\n",
    "\n",
    "\n"
   ]
  },
  {
   "cell_type": "code",
   "execution_count": 100,
   "id": "384a5eea",
   "metadata": {},
   "outputs": [
    {
     "name": "stdout",
     "output_type": "stream",
     "text": [
      "1 \n",
      "1 2 \n",
      "1 2 3 \n",
      "1 2 3 4 \n",
      "1 2 3 4 5 \n"
     ]
    }
   ],
   "source": [
    "i = 1\n",
    "while i <= 5:\n",
    "    j = 1\n",
    "    while j <= i:\n",
    "        print(j, end=' ')\n",
    "        j += 1\n",
    "    print()\n",
    "    i += 1\n"
   ]
  },
  {
   "cell_type": "code",
   "execution_count": 95,
   "id": "16750fed",
   "metadata": {},
   "outputs": [
    {
     "name": "stdout",
     "output_type": "stream",
     "text": [
      "1 \n",
      "1 2 \n",
      "1 2 3 \n",
      "1 2 3 4 \n",
      "1 2 3 4 5 \n"
     ]
    }
   ],
   "source": [
    "rows = 5  # nechta qator bo'lishi kerak\n",
    "\n",
    "for i in range(1, rows + 1):        # 1 dan 5 gacha\n",
    "    for j in range(1, i + 1):       # har bir qatorda 1 dan i gacha\n",
    "        print(j, end=' ')           # bir qator ichida joy tashlab chiqaramiz\n",
    "    print()                         # har qator oxirida yangi qatorga o'tish\n"
   ]
  },
  {
   "cell_type": "code",
   "execution_count": 111,
   "id": "8823b54c",
   "metadata": {},
   "outputs": [
    {
     "name": "stdout",
     "output_type": "stream",
     "text": [
      "2\n",
      "4\n",
      "6\n",
      "8\n",
      "10\n",
      "12\n",
      "14\n",
      "16\n",
      "18\n",
      "20\n"
     ]
    }
   ],
   "source": [
    "n=0\n",
    "while n<20:\n",
    "    n+=1\n",
    "    if n%2==1:\n",
    "        continue\n",
    "    print(n)\n",
    "      \n",
    "         \n",
    "    "
   ]
  },
  {
   "cell_type": "code",
   "execution_count": 30,
   "id": "8c9e0e36",
   "metadata": {},
   "outputs": [
    {
     "name": "stdout",
     "output_type": "stream",
     "text": [
      "75\n",
      "150\n",
      "145\n"
     ]
    }
   ],
   "source": [
    "numbers = [12, 75, 150, 180, 145, 525, 50]\n",
    "for i in numbers:\n",
    "    if i>500:\n",
    "        break\n",
    "    if i >150:\n",
    "        continue\n",
    "    if i%5==0:\n",
    "        print(i)\n",
    "    \n",
    "\n"
   ]
  },
  {
   "cell_type": "code",
   "execution_count": 2,
   "id": "5b5ecea7",
   "metadata": {},
   "outputs": [
    {
     "data": {
      "text/plain": [
       "5"
      ]
     },
     "execution_count": 2,
     "metadata": {},
     "output_type": "execute_result"
    }
   ],
   "source": [
    "num= 87878\n",
    "len(str(num))\n",
    "\n"
   ]
  },
  {
   "cell_type": "code",
   "execution_count": 19,
   "id": "ab6f4f14",
   "metadata": {},
   "outputs": [
    {
     "name": "stdout",
     "output_type": "stream",
     "text": [
      "288\n"
     ]
    }
   ],
   "source": [
    "n=4\n",
    "g=1\n",
    "for i in range(1,n+1):\n",
    "    for j in range(1,i+1):\n",
    "        g*=j\n",
    "print(g)"
   ]
  },
  {
   "cell_type": "code",
   "execution_count": 33,
   "id": "3d908423",
   "metadata": {},
   "outputs": [
    {
     "name": "stdout",
     "output_type": "stream",
     "text": [
      "50\n",
      "40\n",
      "30\n",
      "20\n",
      "10\n"
     ]
    }
   ],
   "source": [
    "list1 = [10, 20, 30, 40, 50]\n",
    "for x in list1[::-1]:\n",
    "         print(x)\n",
    "         \n",
    "\n",
    "\n"
   ]
  },
  {
   "cell_type": "code",
   "execution_count": 36,
   "id": "8244314c",
   "metadata": {},
   "outputs": [
    {
     "name": "stdout",
     "output_type": "stream",
     "text": [
      "-10\n",
      "-9\n",
      "-8\n",
      "-7\n",
      "-6\n",
      "-5\n",
      "-4\n",
      "-3\n",
      "-2\n",
      "-1\n"
     ]
    }
   ],
   "source": [
    "n=-10\n",
    "for x in range(n,0):\n",
    "    print(x)"
   ]
  },
  {
   "cell_type": "code",
   "execution_count": 47,
   "id": "41476c45",
   "metadata": {},
   "outputs": [
    {
     "name": "stdout",
     "output_type": "stream",
     "text": [
      "1\n",
      "2\n",
      "3\n",
      "4\n",
      "5\n",
      "6\n",
      "7\n",
      "8\n",
      "9\n",
      "10\n"
     ]
    }
   ],
   "source": [
    "start = 1\n",
    "end = 10\n",
    "\n",
    "while start <= end:\n",
    "    \n",
    "    print(start)\n",
    "    start += 1\n"
   ]
  },
  {
   "cell_type": "code",
   "execution_count": 7,
   "id": "1d98084a",
   "metadata": {},
   "outputs": [
    {
     "name": "stdout",
     "output_type": "stream",
     "text": [
      "120\n"
     ]
    }
   ],
   "source": [
    "start=1\n",
    "n=1\n",
    "biz_bergan_raqam=5\n",
    "while n<=biz_bergan_raqam:\n",
    "    start*=n\n",
    "    n+=1\n",
    "print(start)"
   ]
  },
  {
   "cell_type": "code",
   "execution_count": 11,
   "id": "ed2ef673",
   "metadata": {},
   "outputs": [
    {
     "name": "stdout",
     "output_type": "stream",
     "text": [
      "1\n",
      "2\n",
      "3\n",
      "4\n",
      "done !\n"
     ]
    }
   ],
   "source": [
    "n=4\n",
    "for x in range(1,n+1):\n",
    "    print(x)\n",
    "else:\n",
    "    print(\"done !\")\n",
    "\n"
   ]
  },
  {
   "cell_type": "code",
   "execution_count": 32,
   "id": "bd2f6b6c",
   "metadata": {},
   "outputs": [
    {
     "name": "stdout",
     "output_type": "stream",
     "text": [
      "True\n",
      "False\n",
      "False\n",
      "False\n",
      "True\n"
     ]
    }
   ],
   "source": [
    "n=5\n",
    "for x in range(1,n+1):\n",
    "    print( n%x==0)\n"
   ]
  },
  {
   "cell_type": "code",
   "execution_count": 33,
   "id": "a9bd5faa",
   "metadata": {},
   "outputs": [
    {
     "name": "stdout",
     "output_type": "stream",
     "text": [
      "Prime numbers between 10 and 50 are:\n",
      "11 13 17 19 23 29 31 37 41 43 47 "
     ]
    }
   ],
   "source": [
    "start = 10\n",
    "end = 50\n",
    "\n",
    "print(f\"Prime numbers between {start} and {end} are:\")\n",
    "\n",
    "for num in range(start, end + 1):\n",
    "    if num > 1:\n",
    "        for i in range(2, int(num ** 0.5) + 1):  # check divisibility up to square root\n",
    "            if num % i == 0:\n",
    "                break\n",
    "        else:\n",
    "            print(num, end=\" \")\n"
   ]
  }
 ],
 "metadata": {
  "kernelspec": {
   "display_name": "Python 3",
   "language": "python",
   "name": "python3"
  },
  "language_info": {
   "codemirror_mode": {
    "name": "ipython",
    "version": 3
   },
   "file_extension": ".py",
   "mimetype": "text/x-python",
   "name": "python",
   "nbconvert_exporter": "python",
   "pygments_lexer": "ipython3",
   "version": "3.13.5"
  }
 },
 "nbformat": 4,
 "nbformat_minor": 5
}
