{
 "cells": [
  {
   "cell_type": "code",
   "execution_count": 9,
   "id": "22cde38f",
   "metadata": {},
   "outputs": [
    {
     "ename": "ZeroDivisionError",
     "evalue": "division by zero",
     "output_type": "error",
     "traceback": [
      "\u001b[31m---------------------------------------------------------------------------\u001b[39m",
      "\u001b[31mZeroDivisionError\u001b[39m                         Traceback (most recent call last)",
      "\u001b[36mCell\u001b[39m\u001b[36m \u001b[39m\u001b[32mIn[9]\u001b[39m\u001b[32m, line 4\u001b[39m\n\u001b[32m      2\u001b[39m a= \u001b[32m4\u001b[39m\n\u001b[32m      3\u001b[39m b=\u001b[32m0\u001b[39m\n\u001b[32m----> \u001b[39m\u001b[32m4\u001b[39m \u001b[38;5;28mprint\u001b[39m(\u001b[43ma\u001b[49m\u001b[43m/\u001b[49m\u001b[43mb\u001b[49m)\n",
      "\u001b[31mZeroDivisionError\u001b[39m: division by zero"
     ]
    }
   ],
   "source": [
    "#Bir sonni nolga bo'lganda ZeroDivisionError istisnosini boshqarish uchun Python dasturini yozing.\n",
    "a= 4\n",
    "b=0\n",
    "print(a/b)\n"
   ]
  },
  {
   "cell_type": "code",
   "execution_count": 5,
   "id": "07cfb6e6",
   "metadata": {},
   "outputs": [
    {
     "ename": "ValueError",
     "evalue": "Invalid input! You must enter a valid integer.",
     "output_type": "error",
     "traceback": [
      "\u001b[31m---------------------------------------------------------------------------\u001b[39m",
      "\u001b[31mValueError\u001b[39m                                Traceback (most recent call last)",
      "\u001b[36mCell\u001b[39m\u001b[36m \u001b[39m\u001b[32mIn[5]\u001b[39m\u001b[32m, line 7\u001b[39m\n\u001b[32m      6\u001b[39m \u001b[38;5;28;01mtry\u001b[39;00m:\n\u001b[32m----> \u001b[39m\u001b[32m7\u001b[39m     number = \u001b[38;5;28;43mint\u001b[39;49m\u001b[43m(\u001b[49m\u001b[43muser_input\u001b[49m\u001b[43m)\u001b[49m\n\u001b[32m      8\u001b[39m     \u001b[38;5;28mprint\u001b[39m(\u001b[33mf\u001b[39m\u001b[33m\"\u001b[39m\u001b[33mYou entered the integer: \u001b[39m\u001b[38;5;132;01m{\u001b[39;00mnumber\u001b[38;5;132;01m}\u001b[39;00m\u001b[33m\"\u001b[39m)\n",
      "\u001b[31mValueError\u001b[39m: invalid literal for int() with base 10: 'fdgdf'",
      "\nDuring handling of the above exception, another exception occurred:\n",
      "\u001b[31mValueError\u001b[39m                                Traceback (most recent call last)",
      "\u001b[36mCell\u001b[39m\u001b[36m \u001b[39m\u001b[32mIn[5]\u001b[39m\u001b[32m, line 10\u001b[39m\n\u001b[32m      8\u001b[39m     \u001b[38;5;28mprint\u001b[39m(\u001b[33mf\u001b[39m\u001b[33m\"\u001b[39m\u001b[33mYou entered the integer: \u001b[39m\u001b[38;5;132;01m{\u001b[39;00mnumber\u001b[38;5;132;01m}\u001b[39;00m\u001b[33m\"\u001b[39m)\n\u001b[32m      9\u001b[39m \u001b[38;5;28;01mexcept\u001b[39;00m \u001b[38;5;167;01mValueError\u001b[39;00m:\n\u001b[32m---> \u001b[39m\u001b[32m10\u001b[39m     \u001b[38;5;28;01mraise\u001b[39;00m \u001b[38;5;167;01mValueError\u001b[39;00m(\u001b[33m\"\u001b[39m\u001b[33mInvalid input! You must enter a valid integer.\u001b[39m\u001b[33m\"\u001b[39m)\n",
      "\u001b[31mValueError\u001b[39m: Invalid input! You must enter a valid integer."
     ]
    }
   ],
   "source": [
    "# Write a Python program that prompts the user to input an integer \n",
    "# and raises a ValueError exception if the input is not a valid integer.\n",
    "# Prompt the user for an integer\n",
    "user_input = input(\"Please enter an integer: \")\n",
    "\n",
    "try:\n",
    "    number = int(user_input)\n",
    "    print(f\"You entered the integer: {number}\")\n",
    "except ValueError:\n",
    "    raise ValueError(\"Invalid input! You must enter a valid integer.\")\n",
    "\n",
    "\n",
    "\n",
    "\n"
   ]
  },
  {
   "cell_type": "code",
   "execution_count": 8,
   "id": "07903331",
   "metadata": {},
   "outputs": [
    {
     "name": "stdout",
     "output_type": "stream",
     "text": [
      "Error: The file 'r' does not exist.\n"
     ]
    }
   ],
   "source": [
    "filename = input(\"Enter the filename to open: \")\n",
    "\n",
    "try:\n",
    "    with open(filename, 'r') as file:\n",
    "        content = file.read()\n",
    "        print(\"File content:\")\n",
    "        print(content)\n",
    "except FileNotFoundError:\n",
    "    print(f\"Error: The file '{filename}' does not exist.\")\n"
   ]
  },
  {
   "cell_type": "code",
   "execution_count": 10,
   "id": "b67e76ed",
   "metadata": {},
   "outputs": [
    {
     "name": "stdout",
     "output_type": "stream",
     "text": [
      "TypeError: Both inputs must be numerical values.\n"
     ]
    }
   ],
   "source": [
    "def input_numbers():\n",
    "    num1 = input(\"Enter first number: \")\n",
    "    num2 = input(\"Enter second number: \")\n",
    "    \n",
    "    if not (num1.replace('.', '', 1).isdigit() and num2.replace('.', '', 1).isdigit()):\n",
    "        raise TypeError(\"Both inputs must be numerical values.\")\n",
    "    \n",
    "    print(f\"You entered numbers: {float(num1)} and {float(num2)}\")\n",
    "\n",
    "try:\n",
    "    input_numbers()\n",
    "except TypeError as e:\n",
    "    print(f\"TypeError: {e}\")\n"
   ]
  },
  {
   "cell_type": "code",
   "execution_count": null,
   "id": "a734f58c",
   "metadata": {},
   "outputs": [],
   "source": [
    "filename = input(\"Enter filename to open: \")\n",
    "\n",
    "try:\n",
    "    with open(filename, 'r') as f:\n",
    "        print(f.read())\n",
    "except PermissionError:\n",
    "    print(f\"PermissionError: You do not have permission to open '{filename}'.\")\n"
   ]
  },
  {
   "cell_type": "code",
   "execution_count": null,
   "id": "11589dfd",
   "metadata": {},
   "outputs": [],
   "source": [
    "my_list = [10, 20, 30, 40]\n",
    "\n",
    "try:\n",
    "    index = int(input(\"Enter an index to access: \"))\n",
    "    print(f\"Element at index {index} is {my_list[index]}\")\n",
    "except IndexError:\n",
    "    print(\"IndexError: The index you entered is out of range.\")\n",
    "except ValueError:\n",
    "    print(\"Please enter a valid integer index.\")\n"
   ]
  },
  {
   "cell_type": "code",
   "execution_count": null,
   "id": "d0bd6749",
   "metadata": {},
   "outputs": [],
   "source": [
    "try:\n",
    "    num = input(\"Enter a number (press Ctrl+C to cancel): \")\n",
    "    print(f\"You entered: {num}\")\n",
    "except KeyboardInterrupt:\n",
    "    print(\"\\nKeyboardInterrupt: Input was cancelled by the user.\")\n"
   ]
  },
  {
   "cell_type": "code",
   "execution_count": null,
   "id": "91395550",
   "metadata": {},
   "outputs": [],
   "source": [
    "try:\n",
    "    numerator = float(input(\"Enter numerator: \"))\n",
    "    denominator = float(input(\"Enter denominator: \"))\n",
    "    result = numerator / denominator\n",
    "    print(f\"Result: {result}\")\n",
    "except ArithmeticError:\n",
    "    print(\"ArithmeticError: An arithmetic error occurred (e.g., division by zero).\")\n",
    "except ValueError:\n",
    "    print(\"Please enter valid numbers.\")\n"
   ]
  },
  {
   "cell_type": "code",
   "execution_count": null,
   "id": "be3b589a",
   "metadata": {},
   "outputs": [],
   "source": [
    "filename = input(\"Enter filename to open with UTF-8 encoding: \")\n",
    "\n",
    "try:\n",
    "    with open(filename, 'r', encoding='utf-8') as f:\n",
    "        print(f.read())\n",
    "except UnicodeDecodeError:\n",
    "    print(f\"UnicodeDecodeError: Cannot decode '{filename}' with UTF-8 encoding.\")\n",
    "except FileNotFoundError:\n",
    "    print(f\"FileNotFoundError: The file '{filename}' does not exist.\")\n"
   ]
  },
  {
   "cell_type": "code",
   "execution_count": null,
   "id": "3d37d89e",
   "metadata": {},
   "outputs": [],
   "source": [
    "my_list = [1, 2, 3]\n",
    "\n",
    "try:\n",
    "    # Trying to call a method that does not exist for list (e.g., .non_existent_method())\n",
    "    my_list.non_existent_method()\n",
    "except AttributeError:\n",
    "    print(\"AttributeError: The list object has no such attribute or method.\")\n"
   ]
  },
  {
   "cell_type": "code",
   "execution_count": 11,
   "id": "4b30e98f",
   "metadata": {},
   "outputs": [
    {
     "name": "stdout",
     "output_type": "stream",
     "text": [
      "Error: The file 'gg' was not found.\n"
     ]
    }
   ],
   "source": [
    "filename = input(\"Enter the filename to read: \")\n",
    "\n",
    "try:\n",
    "    with open(filename, 'r', encoding='utf-8') as file:\n",
    "        content = file.read()\n",
    "        print(\"File content:\\n\")\n",
    "        print(content)\n",
    "except FileNotFoundError:\n",
    "    print(f\"Error: The file '{filename}' was not found.\")\n",
    "except Exception as e:\n",
    "    print(f\"An error occurred: {e}\")\n"
   ]
  },
  {
   "cell_type": "code",
   "execution_count": 8,
   "id": "0d9ff260",
   "metadata": {},
   "outputs": [
    {
     "ename": "FileNotFoundError",
     "evalue": "[Errno 2] No such file or directory: 'example.txt'",
     "output_type": "error",
     "traceback": [
      "\u001b[31m---------------------------------------------------------------------------\u001b[39m",
      "\u001b[31mFileNotFoundError\u001b[39m                         Traceback (most recent call last)",
      "\u001b[36mCell\u001b[39m\u001b[36m \u001b[39m\u001b[32mIn[8]\u001b[39m\u001b[32m, line 9\u001b[39m\n\u001b[32m      6\u001b[39m lines = []\n\u001b[32m      8\u001b[39m \u001b[38;5;66;03m# Faylni o'qish rejimida ochamiz\u001b[39;00m\n\u001b[32m----> \u001b[39m\u001b[32m9\u001b[39m \u001b[38;5;28;01mwith\u001b[39;00m \u001b[38;5;28;43mopen\u001b[39;49m\u001b[43m(\u001b[49m\u001b[43mfilename\u001b[49m\u001b[43m,\u001b[49m\u001b[43m \u001b[49m\u001b[33;43m'\u001b[39;49m\u001b[33;43mr\u001b[39;49m\u001b[33;43m'\u001b[39;49m\u001b[43m,\u001b[49m\u001b[43m \u001b[49m\u001b[43mencoding\u001b[49m\u001b[43m=\u001b[49m\u001b[33;43m'\u001b[39;49m\u001b[33;43mutf-8\u001b[39;49m\u001b[33;43m'\u001b[39;49m\u001b[43m)\u001b[49m \u001b[38;5;28;01mas\u001b[39;00m file:\n\u001b[32m     10\u001b[39m     \u001b[38;5;28;01mfor\u001b[39;00m line \u001b[38;5;129;01min\u001b[39;00m file:\n\u001b[32m     11\u001b[39m         \u001b[38;5;66;03m# Har bir qatordagi \\n belgisi bo'lsa, olib tashlaymiz\u001b[39;00m\n\u001b[32m     12\u001b[39m         lines.append(line.strip())\n",
      "\u001b[36mFile \u001b[39m\u001b[32m~\\AppData\\Roaming\\Python\\Python313\\site-packages\\IPython\\core\\interactiveshell.py:343\u001b[39m, in \u001b[36m_modified_open\u001b[39m\u001b[34m(file, *args, **kwargs)\u001b[39m\n\u001b[32m    336\u001b[39m \u001b[38;5;28;01mif\u001b[39;00m file \u001b[38;5;129;01min\u001b[39;00m {\u001b[32m0\u001b[39m, \u001b[32m1\u001b[39m, \u001b[32m2\u001b[39m}:\n\u001b[32m    337\u001b[39m     \u001b[38;5;28;01mraise\u001b[39;00m \u001b[38;5;167;01mValueError\u001b[39;00m(\n\u001b[32m    338\u001b[39m         \u001b[33mf\u001b[39m\u001b[33m\"\u001b[39m\u001b[33mIPython won\u001b[39m\u001b[33m'\u001b[39m\u001b[33mt let you open fd=\u001b[39m\u001b[38;5;132;01m{\u001b[39;00mfile\u001b[38;5;132;01m}\u001b[39;00m\u001b[33m by default \u001b[39m\u001b[33m\"\u001b[39m\n\u001b[32m    339\u001b[39m         \u001b[33m\"\u001b[39m\u001b[33mas it is likely to crash IPython. If you know what you are doing, \u001b[39m\u001b[33m\"\u001b[39m\n\u001b[32m    340\u001b[39m         \u001b[33m\"\u001b[39m\u001b[33myou can use builtins\u001b[39m\u001b[33m'\u001b[39m\u001b[33m open.\u001b[39m\u001b[33m\"\u001b[39m\n\u001b[32m    341\u001b[39m     )\n\u001b[32m--> \u001b[39m\u001b[32m343\u001b[39m \u001b[38;5;28;01mreturn\u001b[39;00m \u001b[43mio_open\u001b[49m\u001b[43m(\u001b[49m\u001b[43mfile\u001b[49m\u001b[43m,\u001b[49m\u001b[43m \u001b[49m\u001b[43m*\u001b[49m\u001b[43margs\u001b[49m\u001b[43m,\u001b[49m\u001b[43m \u001b[49m\u001b[43m*\u001b[49m\u001b[43m*\u001b[49m\u001b[43mkwargs\u001b[49m\u001b[43m)\u001b[49m\n",
      "\u001b[31mFileNotFoundError\u001b[39m: [Errno 2] No such file or directory: 'example.txt'"
     ]
    }
   ],
   "source": [
    "# Bir faylni qatorma-qator o'qiydigan va uni o'zgaruvchiga saqlaydigan Python dasturini yozing.\n",
    "# Fayl nomi\n",
    "filename = \"example.txt\"\n",
    "\n",
    "# Bo'sh ro'yxat yaratamiz\n",
    "lines = []\n",
    "\n",
    "# Faylni o'qish rejimida ochamiz\n",
    "with open(filename, 'r', encoding='utf-8') as file:\n",
    "    for line in file:\n",
    "        # Har bir qatordagi \\n belgisi bo'lsa, olib tashlaymiz\n",
    "        lines.append(line.strip())\n",
    "\n",
    "# Endi lines o'zgaruvchisida fayldagi har bir qator saqlangan\n",
    "print(lines)\n",
    "\n"
   ]
  },
  {
   "cell_type": "code",
   "execution_count": 11,
   "id": "851ebe49",
   "metadata": {},
   "outputs": [
    {
     "name": "stdout",
     "output_type": "stream",
     "text": [
      "\n",
      "Longest word(s) of length 13:\n",
      "- uzbekistonmim\n"
     ]
    }
   ],
   "source": [
    "def find_longest_words(text):\n",
    "    # Remove punctuation (optional)\n",
    "    import string\n",
    "    translator = str.maketrans('', '', string.punctuation)\n",
    "    cleaned_text = text.translate(translator)\n",
    "\n",
    "    # Split text into words\n",
    "    words = cleaned_text.split()\n",
    "\n",
    "    # Find the maximum word length\n",
    "    max_length = max(len(word) for word in words)\n",
    "\n",
    "    # Get all words that have the maximum length\n",
    "    longest_words = [word for word in words if len(word) == max_length]\n",
    "\n",
    "    return longest_words, max_length\n",
    "\n",
    "# Example usage\n",
    "if __name__ == \"__main__\":\n",
    "    input_text = input(\"Enter a sentence or paragraph:\\n\")\n",
    "    longest_words, length = find_longest_words(input_text)\n",
    "\n",
    "    print(f\"\\nLongest word(s) of length {length}:\")\n",
    "    for word in longest_words:\n",
    "        print(f\"- {word}\")\n"
   ]
  },
  {
   "cell_type": "code",
   "execution_count": 1,
   "id": "5ff42a96",
   "metadata": {},
   "outputs": [],
   "source": [
    "# Matn faylida qatorlar sonini hisoblash uchun Python dasturini yozing.\n"
   ]
  },
  {
   "cell_type": "code",
   "execution_count": 31,
   "id": "3e9477d3",
   "metadata": {},
   "outputs": [
    {
     "name": "stdout",
     "output_type": "stream",
     "text": [
      "faylda 5 ta qator maxjud\n"
     ]
    }
   ],
   "source": [
    "\n",
    "try:\n",
    "    with open('file.txt','r') as fayl:\n",
    "        qator=fayl.readlines()\n",
    "        qator_soni=len(qator)\n",
    "        print(f\"faylda {qator_soni} ta qator maxjud\")\n",
    "except:\n",
    "    print(\"fayl xato kiritilgan\")"
   ]
  },
  {
   "cell_type": "code",
   "execution_count": 2,
   "id": "78896dcc",
   "metadata": {},
   "outputs": [
    {
     "name": "stdout",
     "output_type": "stream",
     "text": [
      "Fayl hajmi: 25 bayt\n"
     ]
    }
   ],
   "source": [
    "#11\n",
    "import os\n",
    "\n",
    "# Fayl yo'lini kiriting\n",
    "file_path = 'file.txt'  # Masalan: 'example.txt'\n",
    "\n",
    "# Fayl mavjudligini tekshirib, hajmini chiqarish\n",
    "if os.path.isfile(file_path):\n",
    "    file_size = os.path.getsize(file_path)\n",
    "    print(f\"Fayl hajmi: {file_size} bayt\")\n",
    "else:\n",
    "    print(\"Fayl topilmadi.\")\n"
   ]
  },
  {
   "cell_type": "code",
   "execution_count": 7,
   "id": "917ca532",
   "metadata": {},
   "outputs": [
    {
     "name": "stdout",
     "output_type": "stream",
     "text": [
      "mevalar.txt fayliga 4 ta element yozildi.\n"
     ]
    }
   ],
   "source": [
    "# Ro'yxat\n",
    "my_list = ['olma', 'banan', 'anor', 'shaftoli']\n",
    "\n",
    "# Fayl nomi\n",
    "file_name = 'mevalar.txt'\n",
    "\n",
    "# Faylga yozish\n",
    "with open(file_name, 'w', encoding='utf-8') as f:\n",
    "    for item in my_list:\n",
    "        f.write(item + '\\n')\n",
    "\n",
    "print(f\"{file_name} fayliga {len(my_list)} ta element yozildi.\")\n"
   ]
  },
  {
   "cell_type": "code",
   "execution_count": null,
   "id": "39e2de46",
   "metadata": {},
   "outputs": [],
   "source": [
    "# with open(file_name, 'w', encoding='utf-8') as f:\n",
    "    # f.write(', '.join(my_list))\n"
   ]
  },
  {
   "cell_type": "code",
   "execution_count": null,
   "id": "31ec5b73",
   "metadata": {},
   "outputs": [
    {
     "ename": "IndentationError",
     "evalue": "unexpected indent (3708665410.py, line 7)",
     "output_type": "error",
     "traceback": [
      "  \u001b[36mCell\u001b[39m\u001b[36m \u001b[39m\u001b[32mIn[12]\u001b[39m\u001b[32m, line 7\u001b[39m\n\u001b[31m    \u001b[39m\u001b[31mmazmun = manba.read()\u001b[39m\n    ^\n\u001b[31mIndentationError\u001b[39m\u001b[31m:\u001b[39m unexpected indent\n"
     ]
    }
   ],
   "source": [
    "# Manba va manzil fayl nomlari\n",
    "manba_fayl = 'manba.txt'\n",
    "yangi_fayl = 'nusxa.txt'\n",
    "\n",
    "# Faylni ochish va nusxalash\n",
    "#with open(manba_fayl, 'r', encoding='utf-8') as manba:\n",
    " #   mazmun = manba.read()\n",
    "\n",
    "with open(yangi_fayl, 'w', encoding='utf-8') as nusxa:\n",
    "    nusxa.write(mazmun)\n",
    "\n",
    "print(f\"{manba_fayl} faylining mazmuni {yangi_fayl} fayliga nusxalandi.\")\n"
   ]
  },
  {
   "cell_type": "code",
   "execution_count": 16,
   "id": "eae18cea",
   "metadata": {},
   "outputs": [
    {
     "name": "stdout",
     "output_type": "stream",
     "text": [
      "fayl1.txt va fayl2.txt fayllari qatorlari birlashtirilib natija.txt fayliga yozildi.\n"
     ]
    }
   ],
   "source": [
    "# Fayllar nomlari\n",
    "fayl1 = 'fayl1.txt'\n",
    "fayl2 = 'fayl2.txt'\n",
    "chiqish_fayli = 'natija.txt'\n",
    "\n",
    "# Fayllarni ochish va birlashtirish\n",
    "with open(fayl1, 'r', encoding='utf-8') as f1, \\\n",
    "     open(fayl2, 'r', encoding='utf-8') as f2, \\\n",
    "     open(chiqish_fayli, 'w', encoding='utf-8') as chiqish:\n",
    "\n",
    "    # Har bir fayldagi qatorlarni o'qish\n",
    "    qatorlar1 = f1.readlines()\n",
    "    qatorlar2 = f2.readlines()\n",
    "\n",
    "    # Eng qisqa ro'yxat uzunligi bo'yicha yurish\n",
    "    for q1, q2 in zip(qatorlar1, qatorlar2):\n",
    "        birlashtirilgan = q1.strip() + ' ' + q2.strip()  # Qatorlar oxiridagi \\n olib tashlanadi\n",
    "        chiqish.write(birlashtirilgan + '\\n')\n",
    "\n",
    "print(f\"{fayl1} va {fayl2} fayllari qatorlari birlashtirilib {chiqish_fayli} fayliga yozildi.\")\n"
   ]
  },
  {
   "cell_type": "code",
   "execution_count": null,
   "id": "86ac13b0",
   "metadata": {},
   "outputs": [],
   "source": [
    "import random\n",
    "\n",
    "# File name\n",
    "file_name = 'example.txt'\n",
    "\n",
    "# Read all lines and pick one at random\n",
    "with open(file_name, 'r', encoding='utf-8') as f:\n",
    "    lines = f.readlines()\n",
    "\n",
    "if lines:\n",
    "    random_line = random.choice(lines).strip()\n",
    "    print(\"Random line:\", random_line)\n",
    "else:\n",
    "    print(\"The file is empty.\")\n"
   ]
  },
  {
   "cell_type": "code",
   "execution_count": null,
   "id": "edb44cf5",
   "metadata": {},
   "outputs": [],
   "source": [
    "# Faylni ochamiz\n",
    "f = open('example.txt', 'r', encoding='utf-8')\n",
    "\n",
    "# Tekshiruv: Fayl ochiqmi yoki yo'qmi?\n",
    "if f.closed:\n",
    "    print(\"Fayl yopiq.\")\n",
    "else:\n",
    "    print(\"Fayl ochiq.\")\n",
    "\n",
    "# Faylni yopamiz\n",
    "f.close()\n",
    "\n",
    "# Yana tekshiramiz\n",
    "if f.closed:\n",
    "    print(\"Endi fayl yopiq.\")\n",
    "else:\n",
    "    print(\"Hali ham ochiq.\")\n"
   ]
  },
  {
   "cell_type": "code",
   "execution_count": null,
   "id": "2a877540",
   "metadata": {},
   "outputs": [],
   "source": [
    "# Fayl nomi\n",
    "file_name = 'example.txt'\n",
    "\n",
    "# Fayldan o‘qib, har bir qatorning oxiridagi '\\n' belgilarini olib tashlaymiz\n",
    "with open(file_name, 'r', encoding='utf-8') as f:\n",
    "    lines = f.readlines()\n",
    "\n",
    "# Har bir qatorni tozalaymiz\n",
    "cleaned_lines = [line.strip() for line in lines]\n",
    "\n",
    "# Natijani ko‘rsatamiz\n",
    "for line in cleaned_lines:\n",
    "    print(line)\n"
   ]
  }
 ],
 "metadata": {
  "kernelspec": {
   "display_name": "Python 3",
   "language": "python",
   "name": "python3"
  },
  "language_info": {
   "codemirror_mode": {
    "name": "ipython",
    "version": 3
   },
   "file_extension": ".py",
   "mimetype": "text/x-python",
   "name": "python",
   "nbconvert_exporter": "python",
   "pygments_lexer": "ipython3",
   "version": "3.13.5"
  }
 },
 "nbformat": 4,
 "nbformat_minor": 5
}
