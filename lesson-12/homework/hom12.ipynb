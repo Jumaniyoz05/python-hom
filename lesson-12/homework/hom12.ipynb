{
 "cells": [
  {
   "cell_type": "code",
   "execution_count": 12,
   "id": "062b7bb1",
   "metadata": {},
   "outputs": [
    {
     "name": "stdout",
     "output_type": "stream",
     "text": [
      "2\n",
      "3\n",
      "43\n",
      "23\n",
      "3\n",
      "23\n",
      "5\n"
     ]
    }
   ],
   "source": [
    "#Berilgan raqamlar oralig'i ichida tub raqamlar mavjudligini tekshiruvchi Python dasturini yozing. \n",
    "# Tub raqamlarni tekshirish jarayonini parallelizatsiya qilish uchun oralig'i bir nechta iplar o'rtasida \n",
    "# taqsimlang. Har bir ip oralig'ning bir qismini tekshirish uchun javobgar bo'lishi kerak va asosiy \n",
    "# dastur topilgan tub raqamlar ro'yxatini chiqarishi kerak.\n",
    "#for i in range ()\n",
    "\n",
    "\n",
    "\n",
    "\n",
    "\n",
    "n=[12,2,3,43,23,44,234,3,23,22,334,5]\n",
    "for i in n:\n",
    "\n",
    "    for x in range(2,int(i**0.5)+1):\n",
    "        if i%x==0:\n",
    "            \n",
    "            break\n",
    "    else:\n",
    "        print(i)\n",
    "     \n",
    "\n"
   ]
  },
  {
   "cell_type": "code",
   "execution_count": 14,
   "id": "f3b080dd",
   "metadata": {},
   "outputs": [
    {
     "name": "stdout",
     "output_type": "stream",
     "text": [
      "alik: 16\n",
      "o: 5\n",
      "salom: 4\n",
      "ssss: 3\n",
      "ffsdf: 2\n",
      "s: 1\n",
      "dd: 1\n",
      "dsfs: 1\n",
      "ffsdfff: 1\n",
      "sfds: 1\n",
      "ali: 1\n"
     ]
    }
   ],
   "source": [
    "#  Ipli Faylni Qayta IshlashKatta matnli faylni o'qiydigan dastur yozing, unda matn satrlari mavjud.\n",
    "#  Fayl ichidagi har bir so'zning uchrashuvlarini hisoblash uchun ipli yechimni amalga oshiring.\n",
    "#  Har bir ip faylning bir qismini qayta ishlashi kerak, \n",
    "#  va asosiy dastur barcha iplar bo'yicha so'z uchrashuvlarining qisqacha ma'lumotini ko'rsatishi kerak.\n",
    "\n",
    "\n",
    "import threading\n",
    "from collections import Counter\n",
    "\n",
    "def count_words(lines, result_list, index):\n",
    "    counter = Counter()\n",
    "    for line in lines:\n",
    "        words = line.strip().split()\n",
    "        counter.update(words)\n",
    "    result_list[index] = counter\n",
    "\n",
    "# Faylni o‘qiymiz\n",
    "with open('file.txt', 'r', encoding='utf-8') as f:\n",
    "    lines = f.readlines()\n",
    "\n",
    "# Nechta thread ishlatamiz\n",
    "num_threads = 4\n",
    "chunk_size = len(lines) // num_threads\n",
    "\n",
    "threads = []\n",
    "results = [None] * num_threads\n",
    "\n",
    "# Har bir threadni yaratamiz\n",
    "for i in range(num_threads):\n",
    "    start = i * chunk_size\n",
    "    end = (i + 1) * chunk_size if i < num_threads - 1 else len(lines)\n",
    "    t = threading.Thread(target=count_words, args=(lines[start:end], results, i))\n",
    "    threads.append(t)\n",
    "    t.start()\n",
    "\n",
    "# Barcha threadlar tugashini kutamiz\n",
    "for t in threads:\n",
    "    t.join()\n",
    "\n",
    "# Natijalarni birlashtiramiz\n",
    "final_counts = Counter()\n",
    "for counter in results:\n",
    "    final_counts.update(counter)\n",
    "\n",
    "# Yakuniy natijani chiqaramiz\n",
    "for word, count in final_counts.most_common():\n",
    "    print(f\"{word}: {count}\")\n",
    "\n",
    "\n"
   ]
  }
 ],
 "metadata": {
  "kernelspec": {
   "display_name": "Python 3",
   "language": "python",
   "name": "python3"
  },
  "language_info": {
   "codemirror_mode": {
    "name": "ipython",
    "version": 3
   },
   "file_extension": ".py",
   "mimetype": "text/x-python",
   "name": "python",
   "nbconvert_exporter": "python",
   "pygments_lexer": "ipython3",
   "version": "3.13.5"
  }
 },
 "nbformat": 4,
 "nbformat_minor": 5
}
