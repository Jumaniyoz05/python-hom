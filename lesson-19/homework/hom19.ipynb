{
 "cells": [
  {
   "cell_type": "code",
   "execution_count": 12,
   "id": "f3c6b9d3",
   "metadata": {},
   "outputs": [
    {
     "data": {
      "text/html": [
       "<div>\n",
       "<style scoped>\n",
       "    .dataframe tbody tr th:only-of-type {\n",
       "        vertical-align: middle;\n",
       "    }\n",
       "\n",
       "    .dataframe tbody tr th {\n",
       "        vertical-align: top;\n",
       "    }\n",
       "\n",
       "    .dataframe thead th {\n",
       "        text-align: right;\n",
       "    }\n",
       "</style>\n",
       "<table border=\"1\" class=\"dataframe\">\n",
       "  <thead>\n",
       "    <tr style=\"text-align: right;\">\n",
       "      <th></th>\n",
       "      <th>Quantity</th>\n",
       "    </tr>\n",
       "    <tr>\n",
       "      <th>Category</th>\n",
       "      <th></th>\n",
       "    </tr>\n",
       "  </thead>\n",
       "  <tbody>\n",
       "    <tr>\n",
       "      <th>Clothing</th>\n",
       "      <td>157</td>\n",
       "    </tr>\n",
       "    <tr>\n",
       "      <th>Electronics</th>\n",
       "      <td>183</td>\n",
       "    </tr>\n",
       "    <tr>\n",
       "      <th>Home</th>\n",
       "      <td>144</td>\n",
       "    </tr>\n",
       "  </tbody>\n",
       "</table>\n",
       "</div>"
      ],
      "text/plain": [
       "             Quantity\n",
       "Category             \n",
       "Clothing          157\n",
       "Electronics       183\n",
       "Home              144"
      ]
     },
     "execution_count": 12,
     "metadata": {},
     "output_type": "execute_result"
    }
   ],
   "source": [
    "import pandas as pd\n",
    "task=pd.read_csv(r'C:\\Users\\hp\\Downloads\\sales_data.csv')\n",
    "task\n",
    "task.groupby(\"Category\")[['Quantity','Price','Quantity']].agg(['sum','mean','max'])\n",
    "task.groupby(\"Category\").agg({'Quantity':'sum'},{'Price':'mean'},{'Quantity':'max'})"
   ]
  },
  {
   "cell_type": "code",
   "execution_count": 35,
   "id": "1ce2e464",
   "metadata": {},
   "outputs": [
    {
     "name": "stdout",
     "output_type": "stream",
     "text": [
      "       Category          Product  Quantity\n",
      "8      Clothing            Jeans        15\n",
      "27  Electronics         Smart TV        15\n",
      "46         Home  Pressure Cooker        14\n"
     ]
    }
   ],
   "source": [
    "# Har bir kategoriya bo'yicha eng ko'p sotilgan mahsulotni sotilgan umumiy miqdor asosida aniqlang.\n",
    "task\n",
    "total_quantity = task.groupby(['Category', 'Product'])['Quantity'].sum().reset_index()\n",
    "total_quantity\n",
    "#Har bir kategoriya bo'yicha eng ko'p sotilgan mahsulotni topish\n",
    "idx = total_quantity.groupby('Category')['Quantity'].idxmax()\n",
    "idx\n",
    "most_sold_products = total_quantity.loc[idx]\n",
    "\n",
    "print(most_sold_products)"
   ]
  },
  {
   "cell_type": "code",
   "execution_count": 37,
   "id": "76279e2a",
   "metadata": {},
   "outputs": [
    {
     "ename": "TypeError",
     "evalue": "can't multiply sequence by non-int of type 'str'",
     "output_type": "error",
     "traceback": [
      "\u001b[31m---------------------------------------------------------------------------\u001b[39m",
      "\u001b[31mTypeError\u001b[39m                                 Traceback (most recent call last)",
      "\u001b[36mCell\u001b[39m\u001b[36m \u001b[39m\u001b[32mIn[37]\u001b[39m\u001b[32m, line 2\u001b[39m\n\u001b[32m      1\u001b[39m task\n\u001b[32m----> \u001b[39m\u001b[32m2\u001b[39m savdo=task.groupby(\u001b[33m'\u001b[39m\u001b[33mDate\u001b[39m\u001b[33m'\u001b[39m)[\u001b[33;43m'\u001b[39;49m\u001b[33;43mQuantity\u001b[39;49m\u001b[33;43m'\u001b[39;49m\u001b[43m*\u001b[49m\u001b[33;43m'\u001b[39;49m\u001b[33;43mPrice\u001b[39;49m\u001b[33;43m'\u001b[39;49m]\n",
      "\u001b[31mTypeError\u001b[39m: can't multiply sequence by non-int of type 'str'"
     ]
    }
   ],
   "source": [
    "task\n",
    "savdo=task.groupby('Date')['Quantity'*'Price']"
   ]
  },
  {
   "cell_type": "code",
   "execution_count": 47,
   "id": "6f876ec7",
   "metadata": {},
   "outputs": [
    {
     "name": "stdout",
     "output_type": "stream",
     "text": [
      "The date with the highest total sales is: 2023-01-07\n",
      "Total sales on that date: $15150\n"
     ]
    }
   ],
   "source": [
    "task\n",
    "import pandas as pd\n",
    "\n",
    "\n",
    "\n",
    "# Step 1: Calculate total sales for each row\n",
    "task['TotalSales'] = task['Quantity'] * task['Price']\n",
    "\n",
    "# Step 2: Group by Date and sum total sales\n",
    "sales_by_date = task.groupby('Date')['TotalSales'].sum()\n",
    "\n",
    "# Step 3: Find the date with the maximum total sales\n",
    "max_sales_date = sales_by_date.idxmax()\n",
    "max_sales_value = sales_by_date.max()\n",
    "\n",
    "# Output\n",
    "print(f\"The date with the highest total sales is: {max_sales_date}\")\n",
    "print(f\"Total sales on that date: ${max_sales_value}\")\n"
   ]
  },
  {
   "cell_type": "code",
   "execution_count": 85,
   "id": "9be5ef6e",
   "metadata": {},
   "outputs": [
    {
     "name": "stdout",
     "output_type": "stream",
     "text": [
      "    OrderID  CustomerID                 Product  Quantity  Price\n",
      "2         3         103              Smartphone         3    400\n",
      "5         6         104                  Tablet         2    300\n",
      "7         8         103        Wireless Earbuds         2    120\n",
      "9        10         104            Coffee Maker         1     50\n",
      "10       11         105                Sneakers         2     50\n",
      "11       12         103             Dress Shirt         3     25\n",
      "12       13         104           Kitchen Scale         1     20\n",
      "15       16         103            Formal Shoes         1     60\n",
      "16       17         104            Cookware Set         1     60\n",
      "17       18         105        Wireless Speaker         1     70\n",
      "20       21         103              Steam Iron         1     30\n",
      "21       22         104           Comforter Set         1     45\n",
      "22       23         105  Point-and-Shoot Camera         1    250\n",
      "25       26         103        Wireless Charger         1     35\n",
      "26       27         104                 Sweater         2     35\n",
      "27       28         105               Projector         1    200\n",
      "30       31         103          Blu-ray Player         1     70\n",
      "31       32         104             Sport Shoes         2     40\n",
      "32       33         105                   Drone         1    300\n",
      "35       36         103       Bluetooth Headset         1     50\n",
      "36       37         104                  Hoodie         1     25\n",
      "37       38         105              Desk Chair         1     75\n",
      "40       41         103            Coffee Table         1    100\n",
      "41       42         104               Bookshelf         1     80\n",
      "42       43         105             Denim Skirt         1     25\n",
      "45       46         103            Formal Shoes         1     60\n",
      "46       47         104                Smart TV         1   1000\n",
      "47       48         105             Cargo Pants         2     30\n",
      "50       51         103        Wireless Earbuds         2    120\n",
      "51       52         104          Gaming Console         1    400\n",
      "52       53         105           Comforter Set         1     45\n",
      "55       56         103                Backpack         1     40\n",
      "56       57         104               Desk Lamp         1     25\n",
      "57       58         105             Dress Shirt         2     25\n",
      "60       61         103        Wireless Charger         1     35\n",
      "61       62         104              Steam Iron         2     30\n",
      "62       63         105                Sneakers         1     50\n",
      "65       66         103         Fitness Tracker         1     60\n",
      "66       67         104                   Jeans         1     30\n",
      "67       68         105             Cargo Pants         1     30\n",
      "70       71         103       Bluetooth Headset         1     50\n",
      "71       72         104          Blu-ray Player         1     70\n",
      "72       73         105                  Hoodie         1     25\n",
      "75       76         103                 Sweater         1     35\n",
      "76       77         104            Coffee Table         2    100\n",
      "77       78         105               Projector         1    200\n",
      "80       81         103             Cargo Pants         1     30\n",
      "81       82         104              Sunglasses         2     15\n",
      "82       83         105            Formal Shoes         1     60\n",
      "85       86         103                 Toaster         2     25\n",
      "86       87         104                Smart TV         1   1000\n",
      "87       88         105            Casual Shoes         1     30\n",
      "90       91         103            Formal Shirt         2     35\n",
      "91       92         104                   Jeans         1     30\n",
      "92       93         105          Wireless Mouse         1     25\n",
      "95       96         103                 Blender         1     60\n",
      "96       97         104             Sport Shoes         2     40\n",
      "97       98         105           Comforter Set         1     45\n"
     ]
    }
   ],
   "source": [
    "task2=pd.read_csv(r'C:\\Users\\hp\\Downloads\\customer_orders.csv')\n",
    "# Step 1: Count number of orders per customer\n",
    "order_counts = task2.groupby('CustomerID').size()\n",
    "\n",
    "\n",
    "\n",
    "# Step 3: Filter the original DataFrame\n",
    "filtered_df = task2[task2['CustomerID'].isin(order_counts[order_counts <= 20].index)]\n",
    "\n",
    "print(filtered_df)\n"
   ]
  },
  {
   "cell_type": "code",
   "execution_count": 92,
   "id": "376741cb",
   "metadata": {},
   "outputs": [
    {
     "data": {
      "text/html": [
       "<div>\n",
       "<style scoped>\n",
       "    .dataframe tbody tr th:only-of-type {\n",
       "        vertical-align: middle;\n",
       "    }\n",
       "\n",
       "    .dataframe tbody tr th {\n",
       "        vertical-align: top;\n",
       "    }\n",
       "\n",
       "    .dataframe thead th {\n",
       "        text-align: right;\n",
       "    }\n",
       "</style>\n",
       "<table border=\"1\" class=\"dataframe\">\n",
       "  <thead>\n",
       "    <tr style=\"text-align: right;\">\n",
       "      <th></th>\n",
       "      <th>Product</th>\n",
       "      <th>Price</th>\n",
       "    </tr>\n",
       "  </thead>\n",
       "  <tbody>\n",
       "    <tr>\n",
       "      <th>16</th>\n",
       "      <td>Drone</td>\n",
       "      <td>300.0</td>\n",
       "    </tr>\n",
       "    <tr>\n",
       "      <th>21</th>\n",
       "      <td>Gaming Console</td>\n",
       "      <td>400.0</td>\n",
       "    </tr>\n",
       "    <tr>\n",
       "      <th>22</th>\n",
       "      <td>Headphones</td>\n",
       "      <td>150.0</td>\n",
       "    </tr>\n",
       "    <tr>\n",
       "      <th>26</th>\n",
       "      <td>Laptop</td>\n",
       "      <td>800.0</td>\n",
       "    </tr>\n",
       "    <tr>\n",
       "      <th>27</th>\n",
       "      <td>Point-and-Shoot Camera</td>\n",
       "      <td>250.0</td>\n",
       "    </tr>\n",
       "    <tr>\n",
       "      <th>28</th>\n",
       "      <td>Projector</td>\n",
       "      <td>200.0</td>\n",
       "    </tr>\n",
       "    <tr>\n",
       "      <th>29</th>\n",
       "      <td>Smart TV</td>\n",
       "      <td>1000.0</td>\n",
       "    </tr>\n",
       "    <tr>\n",
       "      <th>30</th>\n",
       "      <td>Smartphone</td>\n",
       "      <td>400.0</td>\n",
       "    </tr>\n",
       "    <tr>\n",
       "      <th>38</th>\n",
       "      <td>Tablet</td>\n",
       "      <td>300.0</td>\n",
       "    </tr>\n",
       "    <tr>\n",
       "      <th>41</th>\n",
       "      <td>Wireless Earbuds</td>\n",
       "      <td>120.0</td>\n",
       "    </tr>\n",
       "  </tbody>\n",
       "</table>\n",
       "</div>"
      ],
      "text/plain": [
       "                   Product   Price\n",
       "16                   Drone   300.0\n",
       "21          Gaming Console   400.0\n",
       "22              Headphones   150.0\n",
       "26                  Laptop   800.0\n",
       "27  Point-and-Shoot Camera   250.0\n",
       "28               Projector   200.0\n",
       "29                Smart TV  1000.0\n",
       "30              Smartphone   400.0\n",
       "38                  Tablet   300.0\n",
       "41        Wireless Earbuds   120.0"
      ]
     },
     "execution_count": 92,
     "metadata": {},
     "output_type": "execute_result"
    }
   ],
   "source": [
    "# Bir dona uchun o'rtacha narxi $120 dan yuqori bo'lgan mahsulotlarni buyurtma bergan mijozlarni aniqlang.\n",
    "product=task2.groupby('Product')['Price'].agg('mean').reset_index()\n",
    "product[product['Price']>=120]"
   ]
  },
  {
   "cell_type": "code",
   "execution_count": 96,
   "id": "16315eb0",
   "metadata": {},
   "outputs": [
    {
     "data": {
      "text/html": [
       "<div>\n",
       "<style scoped>\n",
       "    .dataframe tbody tr th:only-of-type {\n",
       "        vertical-align: middle;\n",
       "    }\n",
       "\n",
       "    .dataframe tbody tr th {\n",
       "        vertical-align: top;\n",
       "    }\n",
       "\n",
       "    .dataframe thead th {\n",
       "        text-align: right;\n",
       "    }\n",
       "</style>\n",
       "<table border=\"1\" class=\"dataframe\">\n",
       "  <thead>\n",
       "    <tr style=\"text-align: right;\">\n",
       "      <th></th>\n",
       "      <th>Quantity</th>\n",
       "      <th>Price</th>\n",
       "    </tr>\n",
       "    <tr>\n",
       "      <th>Product</th>\n",
       "      <th></th>\n",
       "      <th></th>\n",
       "    </tr>\n",
       "  </thead>\n",
       "  <tbody>\n",
       "    <tr>\n",
       "      <th>Cargo Pants</th>\n",
       "      <td>6</td>\n",
       "      <td>120</td>\n",
       "    </tr>\n",
       "    <tr>\n",
       "      <th>Dress Shirt</th>\n",
       "      <td>5</td>\n",
       "      <td>50</td>\n",
       "    </tr>\n",
       "    <tr>\n",
       "      <th>Formal Shirt</th>\n",
       "      <td>6</td>\n",
       "      <td>105</td>\n",
       "    </tr>\n",
       "    <tr>\n",
       "      <th>Smartphone</th>\n",
       "      <td>5</td>\n",
       "      <td>800</td>\n",
       "    </tr>\n",
       "    <tr>\n",
       "      <th>Sport Shoes</th>\n",
       "      <td>5</td>\n",
       "      <td>120</td>\n",
       "    </tr>\n",
       "    <tr>\n",
       "      <th>Sunglasses</th>\n",
       "      <td>5</td>\n",
       "      <td>60</td>\n",
       "    </tr>\n",
       "    <tr>\n",
       "      <th>Wireless Earbuds</th>\n",
       "      <td>6</td>\n",
       "      <td>360</td>\n",
       "    </tr>\n",
       "  </tbody>\n",
       "</table>\n",
       "</div>"
      ],
      "text/plain": [
       "                  Quantity  Price\n",
       "Product                          \n",
       "Cargo Pants              6    120\n",
       "Dress Shirt              5     50\n",
       "Formal Shirt             6    105\n",
       "Smartphone               5    800\n",
       "Sport Shoes              5    120\n",
       "Sunglasses               5     60\n",
       "Wireless Earbuds         6    360"
      ]
     },
     "execution_count": 96,
     "metadata": {},
     "output_type": "execute_result"
    }
   ],
   "source": [
    "# Har bir buyurtma qilingan mahsulot uchun jami miqdor va jami narxni toping,\n",
    "#  va jami miqdori 5 dan kam bo'lgan mahsulotlarni chiqarib tashlang.\n",
    "t=task2.groupby('Product')[['Quantity','Price']].agg('sum')\n",
    "t[t['Quantity']>=5]\n",
    "\n"
   ]
  },
  {
   "cell_type": "code",
   "execution_count": 116,
   "id": "ad41d382",
   "metadata": {},
   "outputs": [
    {
     "ename": "OperationalError",
     "evalue": "unable to open database file",
     "output_type": "error",
     "traceback": [
      "\u001b[31m---------------------------------------------------------------------------\u001b[39m",
      "\u001b[31mOperationalError\u001b[39m                          Traceback (most recent call last)",
      "\u001b[36mCell\u001b[39m\u001b[36m \u001b[39m\u001b[32mIn[116]\u001b[39m\u001b[32m, line 13\u001b[39m\n\u001b[32m     10\u001b[39m \u001b[38;5;28;01mimport\u001b[39;00m\u001b[38;5;250m \u001b[39m\u001b[34;01mpandas\u001b[39;00m\u001b[38;5;250m \u001b[39m\u001b[38;5;28;01mas\u001b[39;00m\u001b[38;5;250m \u001b[39m\u001b[34;01mpd\u001b[39;00m\n\u001b[32m     12\u001b[39m \u001b[38;5;66;03m# SQLite bazaga ulanish\u001b[39;00m\n\u001b[32m---> \u001b[39m\u001b[32m13\u001b[39m conn = \u001b[43msqlite3\u001b[49m\u001b[43m.\u001b[49m\u001b[43mconnect\u001b[49m\u001b[43m(\u001b[49m\u001b[33;43m\"\u001b[39;49m\u001b[33;43mtask/population.db\u001b[39;49m\u001b[33;43m\"\u001b[39;49m\u001b[43m)\u001b[49m\n\u001b[32m     15\u001b[39m \u001b[38;5;66;03m# SQL orqali ma'lumotlarni olish\u001b[39;00m\n\u001b[32m     16\u001b[39m query = \u001b[33m\"\u001b[39m\u001b[33mSELECT * FROM population;\u001b[39m\u001b[33m\"\u001b[39m\n",
      "\u001b[31mOperationalError\u001b[39m: unable to open database file"
     ]
    }
   ],
   "source": [
    "# import pandas as pd\n",
    "# import sqlite3\n",
    "\n",
    "# # SQL: faqat SELECT\n",
    "# conn = sqlite3.connect('population.db')\n",
    "# conn\n",
    "\n",
    "\n",
    "import sqlite3\n",
    "import pandas as pd\n",
    "\n",
    "# SQLite bazaga ulanish\n",
    "conn = sqlite3.connect(\"task/population.db\")\n",
    "\n",
    "# SQL orqali ma'lumotlarni olish\n",
    "query = \"SELECT * FROM population;\"\n",
    "df_population = pd.read_sql(query, conn)\n",
    "\n",
    "conn.close()  # Ulanishni yopamiz\n",
    "\n",
    " \n",
    "\n",
    "\n"
   ]
  },
  {
   "cell_type": "code",
   "execution_count": 117,
   "id": "495b9841",
   "metadata": {},
   "outputs": [
    {
     "ename": "NameError",
     "evalue": "name 'df_population' is not defined",
     "output_type": "error",
     "traceback": [
      "\u001b[31m---------------------------------------------------------------------------\u001b[39m",
      "\u001b[31mNameError\u001b[39m                                 Traceback (most recent call last)",
      "\u001b[36mCell\u001b[39m\u001b[36m \u001b[39m\u001b[32mIn[117]\u001b[39m\u001b[32m, line 14\u001b[39m\n\u001b[32m     11\u001b[39m     \u001b[38;5;28;01mreturn\u001b[39;00m \u001b[33m'\u001b[39m\u001b[33mUnknown\u001b[39m\u001b[33m'\u001b[39m  \u001b[38;5;66;03m# Agar mos kelmasa\u001b[39;00m\n\u001b[32m     13\u001b[39m \u001b[38;5;66;03m# Har bir odamga toifa beramiz\u001b[39;00m\n\u001b[32m---> \u001b[39m\u001b[32m14\u001b[39m df_population[\u001b[33m'\u001b[39m\u001b[33mSalaryCategory\u001b[39m\u001b[33m'\u001b[39m] = \u001b[43mdf_population\u001b[49m[\u001b[33m'\u001b[39m\u001b[33mSalary\u001b[39m\u001b[33m'\u001b[39m].apply(\u001b[38;5;28;01mlambda\u001b[39;00m x: assign_salary_category(x, df_bands))\n",
      "\u001b[31mNameError\u001b[39m: name 'df_population' is not defined"
     ]
    }
   ],
   "source": [
    "# Har bir odamning salarysini qaysi categoryga tushishini topamiz\n",
    "def assign_salary_category(salary, bands):\n",
    "    for _, row in bands.iterrows():\n",
    "        min_sal = row['MinSalary']\n",
    "        max_sal = row['MaxSalary']\n",
    "        if pd.isna(max_sal):  # Agar yuqori chegara yo'q bo‘lsa (open-ended)\n",
    "            if salary >= min_sal:\n",
    "                return row['Category']\n",
    "        elif min_sal <= salary <= max_sal:\n",
    "            return row['Category']\n",
    "    return 'Unknown'  # Agar mos kelmasa\n",
    "\n",
    "# Har bir odamga toifa beramiz\n",
    "df_population['SalaryCategory'] = df_population['Salary'].apply(lambda x: assign_salary_category(x, df_bands))\n"
   ]
  }
 ],
 "metadata": {
  "kernelspec": {
   "display_name": "Python 3",
   "language": "python",
   "name": "python3"
  },
  "language_info": {
   "codemirror_mode": {
    "name": "ipython",
    "version": 3
   },
   "file_extension": ".py",
   "mimetype": "text/x-python",
   "name": "python",
   "nbconvert_exporter": "python",
   "pygments_lexer": "ipython3",
   "version": "3.13.5"
  }
 },
 "nbformat": 4,
 "nbformat_minor": 5
}
