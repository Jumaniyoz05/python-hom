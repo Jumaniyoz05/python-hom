{
 "cells": [
  {
   "cell_type": "code",
   "execution_count": 7,
   "id": "08c385ab",
   "metadata": {},
   "outputs": [
    {
     "data": {
      "text/plain": [
       "'behi'"
      ]
     },
     "execution_count": 7,
     "metadata": {},
     "output_type": "execute_result"
    }
   ],
   "source": [
    "meva=['olma','banan','behi','nok,uzum']\n",
    "meva[2]"
   ]
  },
  {
   "cell_type": "code",
   "execution_count": null,
   "id": "7b44a514",
   "metadata": {},
   "outputs": [
    {
     "data": {
      "text/plain": [
       "[23, 23, 33, 4, 55, 6, 43, 0, 56, 7, 1]"
      ]
     },
     "execution_count": 11,
     "metadata": {},
     "output_type": "execute_result"
    }
   ],
   "source": [
    "num=[23,23,33,4,55,6]\n",
    "num1=[43,0,56,7,1]\n",
    "num+num1"
   ]
  },
  {
   "cell_type": "code",
   "execution_count": 62,
   "id": "ca139ec2",
   "metadata": {},
   "outputs": [
    {
     "name": "stdout",
     "output_type": "stream",
     "text": [
      "23\n",
      "3\n",
      "6\n"
     ]
    },
    {
     "data": {
      "text/plain": [
       "[(None, None, None)]"
      ]
     },
     "execution_count": 62,
     "metadata": {},
     "output_type": "execute_result"
    }
   ],
   "source": [
    "#Raqamlar ro'yxati berilgan bo'lsa, birinchi, o'rtacha va oxirgi elementlarni ajratib oling va yangi ro'yxatga saqlang.\n",
    "new_list=[]\n",
    "num=[23,23,33,3,4,55,6]\n",
    "num1=[43,0,56,7,1]\n",
    "num[0]\n",
    "num[-1]\n",
    "bir=num[0]\n",
    "bir\n",
    "orta=num[len(num)//2]\n",
    "orta\n",
    "oxiri=num[-1]\n",
    "oxiri\n",
    "new_list=list([(print(bir),print(orta),print(oxiri))])\n",
    "new_list \n",
    "\n"
   ]
  },
  {
   "cell_type": "code",
   "execution_count": 71,
   "id": "7ee6e1aa",
   "metadata": {},
   "outputs": [
    {
     "data": {
      "text/plain": [
       "('bir', 'ikki', 'uch', 'tort', 'besh')"
      ]
     },
     "execution_count": 71,
     "metadata": {},
     "output_type": "execute_result"
    }
   ],
   "source": [
    "#Create a list of your five favorite movies and convert it into a tuple.\n",
    "\n",
    "#Beshta sevimli filmingiz ro'yxatini yarating va uni to'plamga aylantiring.\n",
    "\n",
    "like_n=['bir','ikki','uch','tort','besh']\n",
    "like_n\n",
    "\n",
    "new_taple=tuple(like_n)\n",
    "new_taple"
   ]
  },
  {
   "cell_type": "code",
   "execution_count": 76,
   "id": "8f2ddec1",
   "metadata": {},
   "outputs": [
    {
     "name": "stdout",
     "output_type": "stream",
     "text": [
      "False\n"
     ]
    }
   ],
   "source": [
    "#Given a list of cities, check if \"Paris\" is in the list and print the result.\n",
    "\n",
    "#Shaharlar ro'yxatini hisobga olgan holda, \"Parij\" ro'yxatda yoki yo'qligini tekshiring va natijani chop eting.\n",
    "city=['toshkent','jizzax','qarshi']\n",
    "\n",
    "print(\"Paris\" in city)\n",
    " \n"
   ]
  },
  {
   "cell_type": "code",
   "execution_count": 84,
   "id": "49bd3a52",
   "metadata": {},
   "outputs": [
    {
     "data": {
      "text/plain": [
       "[4, 5, 1, 2, 3, 2, 5, 4, 9]"
      ]
     },
     "execution_count": 84,
     "metadata": {},
     "output_type": "execute_result"
    }
   ],
   "source": [
    "#Duplicate a List Without Using Loops\n",
    "#Create a list of numbers and duplicate it without using loops.\n",
    "\n",
    "nums=[4,5,1,2,3,2,5,4,9]\n",
    "cop=nums[:]\n",
    "cop\n",
    "cop1=list(nums)\n",
    "cop1\n",
    "cop2=nums.copy()\n",
    "cop2"
   ]
  },
  {
   "cell_type": "code",
   "execution_count": 108,
   "id": "363e56c7",
   "metadata": {},
   "outputs": [
    {
     "data": {
      "text/plain": [
       "[1, 5, 1, 2, 3, 2, 5, 4, 0]"
      ]
     },
     "execution_count": 108,
     "metadata": {},
     "output_type": "execute_result"
    }
   ],
   "source": [
    "nums=[4,5,1,2,3,2,5,4,9]\n",
    "nums[0]=1\n",
    "nums\n",
    "nums[-1]=0\n",
    "nums"
   ]
  },
  {
   "cell_type": "code",
   "execution_count": null,
   "id": "5da98feb",
   "metadata": {},
   "outputs": [
    {
     "data": {
      "text/plain": [
       "(3, 4, 5, 6, 7)"
      ]
     },
     "execution_count": 111,
     "metadata": {},
     "output_type": "execute_result"
    }
   ],
   "source": [
    "#Create a tuple of numbers from 1 to 10 and print a slice from index 3 to 7.\n",
    "\n",
    "n_tuple=1,2,3,4,5,6,7,8,9,10\n",
    "n_tuple[2:7]\n"
   ]
  },
  {
   "cell_type": "code",
   "execution_count": 113,
   "id": "839df810",
   "metadata": {},
   "outputs": [
    {
     "data": {
      "text/plain": [
       "3"
      ]
     },
     "execution_count": 113,
     "metadata": {},
     "output_type": "execute_result"
    }
   ],
   "source": [
    "rang='kok','malla','kok','kok'\n",
    "rang.count('kok')"
   ]
  },
  {
   "cell_type": "code",
   "execution_count": 114,
   "id": "052fbd5b",
   "metadata": {},
   "outputs": [
    {
     "data": {
      "text/plain": [
       "0"
      ]
     },
     "execution_count": 114,
     "metadata": {},
     "output_type": "execute_result"
    }
   ],
   "source": [
    "hayvon='sher','qoy'\n",
    "hayvon.index('sher')"
   ]
  },
  {
   "cell_type": "code",
   "execution_count": null,
   "id": "f6eb9786",
   "metadata": {},
   "outputs": [
    {
     "data": {
      "text/plain": [
       "(1, 2, 3, 0, 3, 5, 1)"
      ]
     },
     "execution_count": 116,
     "metadata": {},
     "output_type": "execute_result"
    }
   ],
   "source": [
    "tupl1=1,2,3,0\n",
    "tupl2=3,5,1\n",
    "tupl1+=(tupl2)\n",
    "tupl1\n"
   ]
  },
  {
   "cell_type": "code",
   "execution_count": 121,
   "id": "f846bac9",
   "metadata": {},
   "outputs": [
    {
     "data": {
      "text/plain": [
       "4"
      ]
     },
     "execution_count": 121,
     "metadata": {},
     "output_type": "execute_result"
    }
   ],
   "source": [
    "#Given a list and a tuple, find and print their lengths.\n",
    "nums=[4,5,1,2,3,2,5,4,9]\n",
    "len(nums)\n",
    "tupl1=1,2,3,0\n",
    "len(tupl1)\n"
   ]
  },
  {
   "cell_type": "code",
   "execution_count": 124,
   "id": "865ea0ca",
   "metadata": {},
   "outputs": [
    {
     "data": {
      "text/plain": [
       "[1, 2, 3, 0, 4]"
      ]
     },
     "execution_count": 124,
     "metadata": {},
     "output_type": "execute_result"
    }
   ],
   "source": [
    "tupl1=1,2,3,0,4\n",
    "tupl1\n",
    "my_list=list(tupl1)\n",
    "my_list"
   ]
  },
  {
   "cell_type": "code",
   "execution_count": 127,
   "id": "b7abe3f5",
   "metadata": {},
   "outputs": [
    {
     "name": "stdout",
     "output_type": "stream",
     "text": [
      "4\n",
      "0\n"
     ]
    }
   ],
   "source": [
    "#Given a tuple of numbers, find and print the maximum and minimum values.\n",
    "\n",
    "tupl1=1,2,3,0,4\n",
    "print(max(tupl1))\n",
    "print(min(tupl1))\n"
   ]
  },
  {
   "cell_type": "code",
   "execution_count": 134,
   "id": "8a23da3e",
   "metadata": {},
   "outputs": [
    {
     "data": {
      "text/plain": [
       "['m', 'o', 'l', 'a', 's']"
      ]
     },
     "execution_count": 134,
     "metadata": {},
     "output_type": "execute_result"
    }
   ],
   "source": [
    "tupl1=tuple('salom')\n",
    "tupl1\n",
    "llist=list(tupl1)\n",
    "llist.reverse()\n",
    "llist"
   ]
  }
 ],
 "metadata": {
  "kernelspec": {
   "display_name": "Python 3",
   "language": "python",
   "name": "python3"
  },
  "language_info": {
   "codemirror_mode": {
    "name": "ipython",
    "version": 3
   },
   "file_extension": ".py",
   "mimetype": "text/x-python",
   "name": "python",
   "nbconvert_exporter": "python",
   "pygments_lexer": "ipython3",
   "version": "3.13.5"
  }
 },
 "nbformat": 4,
 "nbformat_minor": 5
}
