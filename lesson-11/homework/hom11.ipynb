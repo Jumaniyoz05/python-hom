{
 "cells": [
  {
   "cell_type": "code",
   "execution_count": null,
   "id": "b3ca3117",
   "metadata": {},
   "outputs": [],
   "source": [
    "#O'z virtual muhitini yarating va ba'zi python paketlarini o'rnating.\n"
   ]
  },
  {
   "cell_type": "code",
   "execution_count": 1,
   "id": "b769111f",
   "metadata": {},
   "outputs": [
    {
     "name": "stdout",
     "output_type": "stream",
     "text": [
      "-3\n",
      "40\n",
      "1.6\n",
      "13\n"
     ]
    }
   ],
   "source": [
    "#Maxsus modullar yarating. \n",
    "# math_operations.py modulini yarating. \n",
    "# Unda qo'shish, ayirish, ko'paytirish va bo'lish funksiyalarini aniqlang.\n",
    "#  (Barcha funksiyalar ushbu vazifada ikki argument qabul qiladi) string_utils\n",
    "# py modulini yarating. Unda stringni teskari qilib yozish va unli tovushlarni sanash funksiyalarini aniqlang. \n",
    "# (Barcha funksiyalar ushbu vazifada bitta argument qabul qiladi)\n",
    "\n",
    "import math\n",
    "math.sqrt(4)\n",
    "a=5\n",
    "b=8\n",
    "print(a-b)\n",
    "print(b*a)\n",
    "print(b/a)\n",
    "print(b+a)\n",
    "\n",
    "\n",
    "# string_utils.py\n",
    "\n",
    "\n",
    "\n"
   ]
  },
  {
   "cell_type": "code",
   "execution_count": null,
   "id": "bf7e1273",
   "metadata": {},
   "outputs": [
    {
     "data": {
      "text/plain": [
       "'ccabcskuscbhd'"
      ]
     },
     "execution_count": 10,
     "metadata": {},
     "output_type": "execute_result"
    }
   ],
   "source": [
    "import string_utils\n",
    "string_utils.unlisi('dsaffs')\n",
    "\n",
    "string_utils.teskari('dhbcsukscbacc')\n",
    "\n"
   ]
  },
  {
   "cell_type": "code",
   "execution_count": null,
   "id": "d1e48473",
   "metadata": {},
   "outputs": [
    {
     "data": {
      "text/plain": [
       "12.566370614359172"
      ]
     },
     "execution_count": 16,
     "metadata": {},
     "output_type": "execute_result"
    }
   ],
   "source": [
    "#Define calculate_area and calculate_circumference functions in circle.py.\n",
    "# These functions accept one argument(radius).\n",
    "from  geometry.circle import doira_uznligi,doira_yuzi\n",
    "doira_yuzi(4)\n",
    "doira_uznligi(2)\n",
    "\n",
    "\n"
   ]
  },
  {
   "cell_type": "code",
   "execution_count": 29,
   "id": "09a0875f",
   "metadata": {},
   "outputs": [
    {
     "ename": "ImportError",
     "evalue": "cannot import name 'read_file' from 'file_operations.file_reader' (c:\\Users\\hp\\Desktop\\python\\file_operations\\file_reader.py)",
     "output_type": "error",
     "traceback": [
      "\u001b[31m---------------------------------------------------------------------------\u001b[39m",
      "\u001b[31mImportError\u001b[39m                               Traceback (most recent call last)",
      "\u001b[36mCell\u001b[39m\u001b[36m \u001b[39m\u001b[32mIn[29]\u001b[39m\u001b[32m, line 12\u001b[39m\n\u001b[32m      8\u001b[39m \u001b[38;5;28;01mimport\u001b[39;00m\u001b[38;5;250m \u001b[39m\u001b[34;01mfile_operations\u001b[39;00m\u001b[34;01m.\u001b[39;00m\u001b[34;01mfile_writer\u001b[39;00m\n\u001b[32m     10\u001b[39m \u001b[38;5;66;03m# main.py\u001b[39;00m\n\u001b[32m---> \u001b[39m\u001b[32m12\u001b[39m \u001b[38;5;28;01mfrom\u001b[39;00m\u001b[38;5;250m \u001b[39m\u001b[34;01mfile_operations\u001b[39;00m\u001b[34;01m.\u001b[39;00m\u001b[34;01mfile_reader\u001b[39;00m\u001b[38;5;250m \u001b[39m\u001b[38;5;28;01mimport\u001b[39;00m read_file\n\u001b[32m     13\u001b[39m \u001b[38;5;28;01mfrom\u001b[39;00m\u001b[38;5;250m \u001b[39m\u001b[34;01mfile_operations\u001b[39;00m\u001b[34;01m.\u001b[39;00m\u001b[34;01mfile_writer\u001b[39;00m\u001b[38;5;250m \u001b[39m\u001b[38;5;28;01mimport\u001b[39;00m write_file\n\u001b[32m     15\u001b[39m file_path = \u001b[33m\"\u001b[39m\u001b[33mexample.txt\u001b[39m\u001b[33m\"\u001b[39m\n",
      "\u001b[31mImportError\u001b[39m: cannot import name 'read_file' from 'file_operations.file_reader' (c:\\Users\\hp\\Desktop\\python\\file_operations\\file_reader.py)"
     ]
    }
   ],
   "source": [
    "#Define read_file function in file_reader.py.\n",
    "#  This function accepts one argument(file_path).\n",
    "#  Define write_file function in file_writer.py.\n",
    "#  This function accepts two arguments(file_path, content).\n",
    "\n",
    "# main.py\n",
    "\n",
    "import file_operations.file_writer\n",
    "\n",
    "# main.py\n",
    "\n",
    "from file_operations.file_reader import read_file\n",
    "from file_operations.file_writer import write_file\n",
    "\n",
    "file_path = \"example.txt\"\n",
    "\n",
    "# Faylga yozamiz\n",
    "write_file(file_path, \"Salom, bu test fayl!\")\n",
    "\n",
    "# Fayldan o‘qiymiz\n",
    "content = read_file(file_path)\n",
    "\n",
    "print(\"Fayldagi matn:\", content)\n",
    "\n",
    "\n",
    "\n",
    "\n",
    "\n",
    "\n"
   ]
  }
 ],
 "metadata": {
  "kernelspec": {
   "display_name": "Python 3",
   "language": "python",
   "name": "python3"
  },
  "language_info": {
   "codemirror_mode": {
    "name": "ipython",
    "version": 3
   },
   "file_extension": ".py",
   "mimetype": "text/x-python",
   "name": "python",
   "nbconvert_exporter": "python",
   "pygments_lexer": "ipython3",
   "version": "3.13.5"
  }
 },
 "nbformat": 4,
 "nbformat_minor": 5
}
